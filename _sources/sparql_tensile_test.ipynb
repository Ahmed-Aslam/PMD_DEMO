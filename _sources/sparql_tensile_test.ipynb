{
 "cells": [
  {
   "cell_type": "markdown",
   "id": "badfcf26",
   "metadata": {},
   "source": [
    "# Tensile test workflow\n",
    "\n",
    "Here, an examplary workflow of a tensile test is presented.\n",
    "- The data source is obtained from a triple store via sparql queries.\n",
    "- Then the elastic modulus is calculcated based on the given stress-strain data.\n",
    "- The calculated elastic modulus is returned to the triple store.\n",
    "- **Authors and Contributors :** Muhmmad Hassani, Jannis Grundmann, Ahmed Aslam, Jörg Schaarschmidt, Tilmann Hickel"
   ]
  },
  {
   "cell_type": "markdown",
   "id": "35f23431",
   "metadata": {},
   "source": [
    "### Importing and defining project from the custom defined module "
   ]
  },
  {
   "cell_type": "code",
   "execution_count": 1,
   "id": "fad70622",
   "metadata": {},
   "outputs": [],
   "source": [
    "from pyiron_tensile_test import Project"
   ]
  },
  {
   "cell_type": "code",
   "execution_count": 2,
   "id": "55e30844",
   "metadata": {},
   "outputs": [
    {
     "data": {
      "application/vnd.jupyter.widget-view+json": {
       "model_id": "a87d43de76df446790fc7e6ee0ec537f",
       "version_major": 2,
       "version_minor": 0
      },
      "text/plain": [
       "  0%|          | 0/1 [00:00<?, ?it/s]"
      ]
     },
     "metadata": {},
     "output_type": "display_data"
    }
   ],
   "source": [
    "pr = Project('test_tensile_job')\n",
    "pr.remove_jobs(silently=True)"
   ]
  },
  {
   "cell_type": "markdown",
   "id": "46a102d9",
   "metadata": {},
   "source": [
    "### Creating a job of type tensile test"
   ]
  },
  {
   "cell_type": "code",
   "execution_count": 3,
   "id": "bbe9de39",
   "metadata": {},
   "outputs": [],
   "source": [
    "job = pr.create.job.TensileJob(job_name='tensile_job')"
   ]
  },
  {
   "cell_type": "markdown",
   "id": "8ee85e72",
   "metadata": {},
   "source": [
    "### Defining the sparql endpoint and query for data source"
   ]
  },
  {
   "cell_type": "code",
   "execution_count": 4,
   "id": "5d074905",
   "metadata": {},
   "outputs": [],
   "source": [
    "job.endpoint = 'http://localhost:8000/api/jena/S355/sparql'"
   ]
  },
  {
   "cell_type": "code",
   "execution_count": 5,
   "id": "26f2abe5",
   "metadata": {},
   "outputs": [
    {
     "data": {
      "text/plain": [
       "'http://microservice_dbdocker:27777/api/S355_SteelSheet/S355_n2c.ipynb/804a2653db074a088c97832f'"
      ]
     },
     "execution_count": 5,
     "metadata": {},
     "output_type": "execute_result"
    }
   ],
   "source": [
    "download_url = job.query_data_source(test_name='Zx1')\n",
    "download_url"
   ]
  },
  {
   "cell_type": "code",
   "execution_count": 6,
   "id": "3f30ea41",
   "metadata": {},
   "outputs": [],
   "source": [
    "download_url = download_url.replace(\"microservice_dbdocker\", \"127.0.0.1\")"
   ]
  },
  {
   "cell_type": "markdown",
   "id": "5e200e9f",
   "metadata": {},
   "source": [
    "### Obtaining the experimental dataset"
   ]
  },
  {
   "cell_type": "code",
   "execution_count": 7,
   "id": "3084ebdb",
   "metadata": {},
   "outputs": [],
   "source": [
    "job.get_dataset(url=download_url)"
   ]
  },
  {
   "cell_type": "code",
   "execution_count": 8,
   "id": "9b608ca3",
   "metadata": {
    "scrolled": true
   },
   "outputs": [
    {
     "data": {
      "text/html": [
       "<div>\n",
       "<style scoped>\n",
       "    .dataframe tbody tr th:only-of-type {\n",
       "        vertical-align: middle;\n",
       "    }\n",
       "\n",
       "    .dataframe tbody tr th {\n",
       "        vertical-align: top;\n",
       "    }\n",
       "\n",
       "    .dataframe thead th {\n",
       "        text-align: right;\n",
       "    }\n",
       "</style>\n",
       "<table border=\"1\" class=\"dataframe\">\n",
       "  <thead>\n",
       "    <tr style=\"text-align: right;\">\n",
       "      <th></th>\n",
       "      <th>Data Resource</th>\n",
       "      <th>Object</th>\n",
       "      <th>Tensile Test</th>\n",
       "      <th>dataseries</th>\n",
       "    </tr>\n",
       "  </thead>\n",
       "  <tbody>\n",
       "    <tr>\n",
       "      <th>has data resource location</th>\n",
       "      <td>http://microservice_dbdocker:27777/api/S355_SteelSheet/S355_n2c.ipynb/804a2653db074a088c97832f</td>\n",
       "      <td>NaN</td>\n",
       "      <td>NaN</td>\n",
       "      <td>NaN</td>\n",
       "    </tr>\n",
       "    <tr>\n",
       "      <th>hasIdentifier</th>\n",
       "      <td>dataresource_canon</td>\n",
       "      <td>obj</td>\n",
       "      <td>NaN</td>\n",
       "      <td>NaN</td>\n",
       "    </tr>\n",
       "    <tr>\n",
       "      <th>supplied object identifier</th>\n",
       "      <td>NaN</td>\n",
       "      <td>Zx1</td>\n",
       "      <td>NaN</td>\n",
       "      <td>NaN</td>\n",
       "    </tr>\n",
       "    <tr>\n",
       "      <th>Material</th>\n",
       "      <td>NaN</td>\n",
       "      <td>NaN</td>\n",
       "      <td>S355</td>\n",
       "      <td>NaN</td>\n",
       "    </tr>\n",
       "    <tr>\n",
       "      <th>executed by</th>\n",
       "      <td>NaN</td>\n",
       "      <td>NaN</td>\n",
       "      <td>[J. , M. (S., J.)]</td>\n",
       "      <td>NaN</td>\n",
       "    </tr>\n",
       "    <tr>\n",
       "      <th>has data resource</th>\n",
       "      <td>NaN</td>\n",
       "      <td>NaN</td>\n",
       "      <td>[{'Data Resource': {'has data resource location': 'http://microservice_dbdocker:27777/api/S355_SteelSheet/S355_r2n.ipynb/0c7e18fcc77d44b68043bb6d', 'hasIdentifier': 'dataresource_native'}}, {'Data...</td>\n",
       "      <td>NaN</td>\n",
       "    </tr>\n",
       "    <tr>\n",
       "      <th>has generated object identifier</th>\n",
       "      <td>NaN</td>\n",
       "      <td>NaN</td>\n",
       "      <td>Zx1</td>\n",
       "      <td>NaN</td>\n",
       "    </tr>\n",
       "    <tr>\n",
       "      <th>has measured maximum force</th>\n",
       "      <td>NaN</td>\n",
       "      <td>NaN</td>\n",
       "      <td>{'unit': 'Kilonewton', 'value': 62.006923703333335}</td>\n",
       "      <td>NaN</td>\n",
       "    </tr>\n",
       "    <tr>\n",
       "      <th>has measured modulus of elasticity</th>\n",
       "      <td>NaN</td>\n",
       "      <td>NaN</td>\n",
       "      <td>{'unit': 'Gigapascal', 'value': 194}</td>\n",
       "      <td>NaN</td>\n",
       "    </tr>\n",
       "    <tr>\n",
       "      <th>has measured original diameter</th>\n",
       "      <td>NaN</td>\n",
       "      <td>NaN</td>\n",
       "      <td>{'unit': 'Millimetre', 'value': 5.992}</td>\n",
       "      <td>NaN</td>\n",
       "    </tr>\n",
       "    <tr>\n",
       "      <th>has measured parallel length original width</th>\n",
       "      <td>NaN</td>\n",
       "      <td>NaN</td>\n",
       "      <td>{'unit': 'Millimetre', 'value': 20.131}</td>\n",
       "      <td>NaN</td>\n",
       "    </tr>\n",
       "    <tr>\n",
       "      <th>has measured temperature</th>\n",
       "      <td>NaN</td>\n",
       "      <td>NaN</td>\n",
       "      <td>True</td>\n",
       "      <td>NaN</td>\n",
       "    </tr>\n",
       "    <tr>\n",
       "      <th>has measured testing rate</th>\n",
       "      <td>NaN</td>\n",
       "      <td>NaN</td>\n",
       "      <td>{'unit': 'Millimetre Per Second', 'value': '0,536'}</td>\n",
       "      <td>NaN</td>\n",
       "    </tr>\n",
       "    <tr>\n",
       "      <th>has measured thickness after fracture</th>\n",
       "      <td>NaN</td>\n",
       "      <td>NaN</td>\n",
       "      <td>{'unit': 'Millimetre', 'value': 3.52}</td>\n",
       "      <td>NaN</td>\n",
       "    </tr>\n",
       "    <tr>\n",
       "      <th>has nominal original gauge length</th>\n",
       "      <td>NaN</td>\n",
       "      <td>NaN</td>\n",
       "      <td>{'unit': 'Millimetre', 'value': 50}</td>\n",
       "      <td>NaN</td>\n",
       "    </tr>\n",
       "    <tr>\n",
       "      <th>has nominal temperature</th>\n",
       "      <td>NaN</td>\n",
       "      <td>NaN</td>\n",
       "      <td>{'unit': 'Degree Celsius', 'value': 20}</td>\n",
       "      <td>NaN</td>\n",
       "    </tr>\n",
       "    <tr>\n",
       "      <th>has output object</th>\n",
       "      <td>NaN</td>\n",
       "      <td>NaN</td>\n",
       "      <td>[{'Object': {'hasIdentifier': 'obj'}}]</td>\n",
       "      <td>NaN</td>\n",
       "    </tr>\n",
       "    <tr>\n",
       "      <th>has supplied identifier</th>\n",
       "      <td>NaN</td>\n",
       "      <td>NaN</td>\n",
       "      <td>AG Ontologie Zugversuch Zx1</td>\n",
       "      <td>NaN</td>\n",
       "    </tr>\n",
       "    <tr>\n",
       "      <th>Zx1.csv</th>\n",
       "      <td>NaN</td>\n",
       "      <td>NaN</td>\n",
       "      <td>NaN</td>\n",
       "      <td>{'data': [[0, 0, '0,25459', '0,05855'], ['0,1', '0,00104', '0,2551', '0,05854'], ['0,2', '0,00284', '0,25807', '0,0586'], ['0,3', '0,00544', '0,26516', '0,05864'], ['0,4', '0,00888', '0,28904', '0...</td>\n",
       "    </tr>\n",
       "  </tbody>\n",
       "</table>\n",
       "</div>"
      ],
      "text/plain": [
       "                                                                                                                              Data Resource  \\\n",
       "has data resource location                   http://microservice_dbdocker:27777/api/S355_SteelSheet/S355_n2c.ipynb/804a2653db074a088c97832f   \n",
       "hasIdentifier                                                                                                            dataresource_canon   \n",
       "supplied object identifier                                                                                                              NaN   \n",
       "Material                                                                                                                                NaN   \n",
       "executed by                                                                                                                             NaN   \n",
       "has data resource                                                                                                                       NaN   \n",
       "has generated object identifier                                                                                                         NaN   \n",
       "has measured maximum force                                                                                                              NaN   \n",
       "has measured modulus of elasticity                                                                                                      NaN   \n",
       "has measured original diameter                                                                                                          NaN   \n",
       "has measured parallel length original width                                                                                             NaN   \n",
       "has measured temperature                                                                                                                NaN   \n",
       "has measured testing rate                                                                                                               NaN   \n",
       "has measured thickness after fracture                                                                                                   NaN   \n",
       "has nominal original gauge length                                                                                                       NaN   \n",
       "has nominal temperature                                                                                                                 NaN   \n",
       "has output object                                                                                                                       NaN   \n",
       "has supplied identifier                                                                                                                 NaN   \n",
       "Zx1.csv                                                                                                                                 NaN   \n",
       "\n",
       "                                            Object  \\\n",
       "has data resource location                     NaN   \n",
       "hasIdentifier                                  obj   \n",
       "supplied object identifier                     Zx1   \n",
       "Material                                       NaN   \n",
       "executed by                                    NaN   \n",
       "has data resource                              NaN   \n",
       "has generated object identifier                NaN   \n",
       "has measured maximum force                     NaN   \n",
       "has measured modulus of elasticity             NaN   \n",
       "has measured original diameter                 NaN   \n",
       "has measured parallel length original width    NaN   \n",
       "has measured temperature                       NaN   \n",
       "has measured testing rate                      NaN   \n",
       "has measured thickness after fracture          NaN   \n",
       "has nominal original gauge length              NaN   \n",
       "has nominal temperature                        NaN   \n",
       "has output object                              NaN   \n",
       "has supplied identifier                        NaN   \n",
       "Zx1.csv                                        NaN   \n",
       "\n",
       "                                                                                                                                                                                                                                        Tensile Test  \\\n",
       "has data resource location                                                                                                                                                                                                                       NaN   \n",
       "hasIdentifier                                                                                                                                                                                                                                    NaN   \n",
       "supplied object identifier                                                                                                                                                                                                                       NaN   \n",
       "Material                                                                                                                                                                                                                                        S355   \n",
       "executed by                                                                                                                                                                                                                       [J. , M. (S., J.)]   \n",
       "has data resource                            [{'Data Resource': {'has data resource location': 'http://microservice_dbdocker:27777/api/S355_SteelSheet/S355_r2n.ipynb/0c7e18fcc77d44b68043bb6d', 'hasIdentifier': 'dataresource_native'}}, {'Data...   \n",
       "has generated object identifier                                                                                                                                                                                                                  Zx1   \n",
       "has measured maximum force                                                                                                                                                                       {'unit': 'Kilonewton', 'value': 62.006923703333335}   \n",
       "has measured modulus of elasticity                                                                                                                                                                              {'unit': 'Gigapascal', 'value': 194}   \n",
       "has measured original diameter                                                                                                                                                                                {'unit': 'Millimetre', 'value': 5.992}   \n",
       "has measured parallel length original width                                                                                                                                                                  {'unit': 'Millimetre', 'value': 20.131}   \n",
       "has measured temperature                                                                                                                                                                                                                        True   \n",
       "has measured testing rate                                                                                                                                                                        {'unit': 'Millimetre Per Second', 'value': '0,536'}   \n",
       "has measured thickness after fracture                                                                                                                                                                          {'unit': 'Millimetre', 'value': 3.52}   \n",
       "has nominal original gauge length                                                                                                                                                                                {'unit': 'Millimetre', 'value': 50}   \n",
       "has nominal temperature                                                                                                                                                                                      {'unit': 'Degree Celsius', 'value': 20}   \n",
       "has output object                                                                                                                                                                                             [{'Object': {'hasIdentifier': 'obj'}}]   \n",
       "has supplied identifier                                                                                                                                                                                                  AG Ontologie Zugversuch Zx1   \n",
       "Zx1.csv                                                                                                                                                                                                                                          NaN   \n",
       "\n",
       "                                                                                                                                                                                                                                          dataseries  \n",
       "has data resource location                                                                                                                                                                                                                       NaN  \n",
       "hasIdentifier                                                                                                                                                                                                                                    NaN  \n",
       "supplied object identifier                                                                                                                                                                                                                       NaN  \n",
       "Material                                                                                                                                                                                                                                         NaN  \n",
       "executed by                                                                                                                                                                                                                                      NaN  \n",
       "has data resource                                                                                                                                                                                                                                NaN  \n",
       "has generated object identifier                                                                                                                                                                                                                  NaN  \n",
       "has measured maximum force                                                                                                                                                                                                                       NaN  \n",
       "has measured modulus of elasticity                                                                                                                                                                                                               NaN  \n",
       "has measured original diameter                                                                                                                                                                                                                   NaN  \n",
       "has measured parallel length original width                                                                                                                                                                                                      NaN  \n",
       "has measured temperature                                                                                                                                                                                                                         NaN  \n",
       "has measured testing rate                                                                                                                                                                                                                        NaN  \n",
       "has measured thickness after fracture                                                                                                                                                                                                            NaN  \n",
       "has nominal original gauge length                                                                                                                                                                                                                NaN  \n",
       "has nominal temperature                                                                                                                                                                                                                          NaN  \n",
       "has output object                                                                                                                                                                                                                                NaN  \n",
       "has supplied identifier                                                                                                                                                                                                                          NaN  \n",
       "Zx1.csv                                      {'data': [[0, 0, '0,25459', '0,05855'], ['0,1', '0,00104', '0,2551', '0,05854'], ['0,2', '0,00284', '0,25807', '0,0586'], ['0,3', '0,00544', '0,26516', '0,05864'], ['0,4', '0,00888', '0,28904', '0...  "
      ]
     },
     "execution_count": 8,
     "metadata": {},
     "output_type": "execute_result"
    }
   ],
   "source": [
    "job.experimental_json"
   ]
  },
  {
   "cell_type": "markdown",
   "id": "9000889d",
   "metadata": {},
   "source": [
    "### Extracting stress and strain data from the dataset"
   ]
  },
  {
   "cell_type": "code",
   "execution_count": 9,
   "id": "093d639b",
   "metadata": {},
   "outputs": [],
   "source": [
    "job.extract_stress_strain()"
   ]
  },
  {
   "cell_type": "code",
   "execution_count": 10,
   "id": "295e0f53",
   "metadata": {},
   "outputs": [
    {
     "data": {
      "image/png": "[encoded data removed]",
      "text/plain": [
       "<Figure size 432x288 with 1 Axes>"
      ]
     },
     "metadata": {
      "needs_background": "light"
     },
     "output_type": "display_data"
    }
   ],
   "source": [
    "job.plot_stress_strain()"
   ]
  },
  {
   "cell_type": "markdown",
   "id": "7b678da3",
   "metadata": {},
   "source": [
    "## Calculating the elastic modulus"
   ]
  },
  {
   "cell_type": "code",
   "execution_count": 11,
   "id": "fd8bff50",
   "metadata": {
    "scrolled": true
   },
   "outputs": [
    {
     "name": "stdout",
     "output_type": "stream",
     "text": [
      "The job tensile_job was saved and received the ID: 5\n"
     ]
    }
   ],
   "source": [
    "job.run()"
   ]
  },
  {
   "cell_type": "code",
   "execution_count": 12,
   "id": "31805e03",
   "metadata": {},
   "outputs": [
    {
     "data": {
      "text/plain": [
       "181.58485412597656"
      ]
     },
     "execution_count": 12,
     "metadata": {},
     "output_type": "execute_result"
    }
   ],
   "source": [
    "job.output.elastic_modulus"
   ]
  },
  {
   "cell_type": "markdown",
   "id": "a33272ee",
   "metadata": {},
   "source": [
    "### Return the calculated value to the triple store"
   ]
  },
  {
   "cell_type": "code",
   "execution_count": 13,
   "id": "97660f78",
   "metadata": {},
   "outputs": [],
   "source": [
    "job.update_triple_store(test_name='Zx1')"
   ]
  },
  {
   "cell_type": "code",
   "execution_count": 14,
   "id": "01808ced",
   "metadata": {
    "scrolled": true
   },
   "outputs": [],
   "source": [
    "results = job.verify_update()"
   ]
  },
  {
   "cell_type": "markdown",
   "id": "5f9cf9a9",
   "metadata": {},
   "source": [
    "## Verifying the hdf5 file storage"
   ]
  },
  {
   "cell_type": "code",
   "execution_count": 15,
   "id": "43ad7994",
   "metadata": {},
   "outputs": [],
   "source": [
    "job_load = pr.load(job.name)"
   ]
  },
  {
   "cell_type": "code",
   "execution_count": 16,
   "id": "6d1f4a87",
   "metadata": {},
   "outputs": [
    {
     "data": {
      "application/json": {
       "elastic_modulus": "181.58485412597656"
      },
      "text/html": [
       "<pre>DataContainer({\n",
       "  \"elastic_modulus\": \"181.58485412597656\"\n",
       "})</pre>"
      ],
      "text/plain": [
       "DataContainer({'elastic_modulus': 181.58485412597656})"
      ]
     },
     "execution_count": 16,
     "metadata": {},
     "output_type": "execute_result"
    }
   ],
   "source": [
    "job_load.output"
   ]
  },
  {
   "cell_type": "code",
   "execution_count": 17,
   "id": "7644dfdc",
   "metadata": {},
   "outputs": [
    {
     "data": {
      "text/plain": [
       "'Zx1'"
      ]
     },
     "execution_count": 17,
     "metadata": {},
     "output_type": "execute_result"
    }
   ],
   "source": [
    "job_load.input['test_name']"
   ]
  },
  {
   "cell_type": "code",
   "execution_count": null,
   "id": "dd98e211",
   "metadata": {},
   "outputs": [],
   "source": []
  }
 ],
 "metadata": {
  "kernelspec": {
   "display_name": "Python 3 (ipykernel)",
   "language": "python",
   "name": "python3"
  },
  "language_info": {
   "codemirror_mode": {
    "name": "ipython",
    "version": 3
   },
   "file_extension": ".py",
   "mimetype": "text/x-python",
   "name": "python",
   "nbconvert_exporter": "python",
   "pygments_lexer": "ipython3",
   "version": "3.9.13"
  }
 },
 "nbformat": 4,
 "nbformat_minor": 5
}
