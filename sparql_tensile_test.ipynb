{
 "cells": [
  {
   "cell_type": "markdown",
   "id": "badfcf26",
   "metadata": {},
   "source": [
    "# Tensile test workflow\n",
    "\n",
    "Here, an examplary workflow of a tensile test is presented.\n",
    "- The data source is obtained from a triple store via sparql queries.\n",
    "- Then the elastic modulus is calculcated based on the given stress-strain data.\n",
    "- The calculated elastic modulus is returned to the triple store.\n"
   ]
  },
  {
   "cell_type": "markdown",
   "id": "35f23431",
   "metadata": {},
   "source": [
    "### Importing and defining project from the custom defined module "
   ]
  },
  {
   "cell_type": "code",
   "execution_count": 1,
   "id": "fad70622",
   "metadata": {},
   "outputs": [],
   "source": [
    "from pyiron_tensile_test import Project"
   ]
  },
  {
   "cell_type": "code",
   "execution_count": 2,
   "id": "55e30844",
   "metadata": {},
   "outputs": [
    {
     "data": {
      "application/vnd.jupyter.widget-view+json": {
       "model_id": "bcf2d1267e6a4a6b9d246aaff3962287",
       "version_major": 2,
       "version_minor": 0
      },
      "text/plain": [
       "  0%|          | 0/1 [00:00<?, ?it/s]"
      ]
     },
     "metadata": {},
     "output_type": "display_data"
    }
   ],
   "source": [
    "pr = Project('test_tensile_job')\n",
    "pr.remove_jobs(silently=True)"
   ]
  },
  {
   "cell_type": "markdown",
   "id": "46a102d9",
   "metadata": {},
   "source": [
    "### Creating a job of type tensile test"
   ]
  },
  {
   "cell_type": "code",
   "execution_count": 3,
   "id": "bbe9de39",
   "metadata": {},
   "outputs": [],
   "source": [
    "job = pr.create.job.TensileJob(job_name='tensile_job')"
   ]
  },
  {
   "cell_type": "markdown",
   "id": "8ee85e72",
   "metadata": {},
   "source": [
    "### Defining the sparql endpoint and query for data source"
   ]
  },
  {
   "cell_type": "code",
   "execution_count": 4,
   "id": "5d074905",
   "metadata": {},
   "outputs": [],
   "source": [
    "job.endpoint = 'http://localhost:8000/api/jena/S355/sparql'"
   ]
  },
  {
   "cell_type": "code",
   "execution_count": 5,
   "id": "26f2abe5",
   "metadata": {},
   "outputs": [
    {
     "data": {
      "text/plain": [
       "'http://microservice_dbdocker:27777/api/S355_SteelSheet/S355_n2c.ipynb/804a2653db074a088c97832f'"
      ]
     },
     "execution_count": 5,
     "metadata": {},
     "output_type": "execute_result"
    }
   ],
   "source": [
    "download_url = job.query_data_source(test_name='Zx1')\n",
    "download_url"
   ]
  },
  {
   "cell_type": "code",
   "execution_count": 6,
   "id": "3f30ea41",
   "metadata": {},
   "outputs": [],
   "source": [
    "download_url = download_url.replace(\"microservice_dbdocker\", \"127.0.0.1\")"
   ]
  },
  {
   "cell_type": "markdown",
   "id": "5e200e9f",
   "metadata": {},
   "source": [
    "### Obtaining the experimental dataset"
   ]
  },
  {
   "cell_type": "code",
   "execution_count": 7,
   "id": "3084ebdb",
   "metadata": {},
   "outputs": [],
   "source": [
    "job.get_dataset(url=download_url)"
   ]
  },
  {
   "cell_type": "code",
   "execution_count": 8,
   "id": "9b608ca3",
   "metadata": {
    "scrolled": true
   },
   "outputs": [
    {
     "data": {
      "text/html": [
       "<div>\n",
       "<style scoped>\n",
       "    .dataframe tbody tr th:only-of-type {\n",
       "        vertical-align: middle;\n",
       "    }\n",
       "\n",
       "    .dataframe tbody tr th {\n",
       "        vertical-align: top;\n",
       "    }\n",
       "\n",
       "    .dataframe thead th {\n",
       "        text-align: right;\n",
       "    }\n",
       "</style>\n",
       "<table border=\"1\" class=\"dataframe\">\n",
       "  <thead>\n",
       "    <tr style=\"text-align: right;\">\n",
       "      <th></th>\n",
       "      <th>Data Resource</th>\n",
       "      <th>Object</th>\n",
       "      <th>Tensile Test</th>\n",
       "      <th>dataseries</th>\n",
       "    </tr>\n",
       "  </thead>\n",
       "  <tbody>\n",
       "    <tr>\n",
       "      <th>has data resource location</th>\n",
       "      <td>http://microservice_dbdocker:27777/api/S355_SteelSheet/S355_n2c.ipynb/804a2653db074a088c97832f</td>\n",
       "      <td>NaN</td>\n",
       "      <td>NaN</td>\n",
       "      <td>NaN</td>\n",
       "    </tr>\n",
       "    <tr>\n",
       "      <th>hasIdentifier</th>\n",
       "      <td>dataresource_canon</td>\n",
       "      <td>obj</td>\n",
       "      <td>NaN</td>\n",
       "      <td>NaN</td>\n",
       "    </tr>\n",
       "    <tr>\n",
       "      <th>supplied object identifier</th>\n",
       "      <td>NaN</td>\n",
       "      <td>Zx1</td>\n",
       "      <td>NaN</td>\n",
       "      <td>NaN</td>\n",
       "    </tr>\n",
       "    <tr>\n",
       "      <th>Material</th>\n",
       "      <td>NaN</td>\n",
       "      <td>NaN</td>\n",
       "      <td>S355</td>\n",
       "      <td>NaN</td>\n",
       "    </tr>\n",
       "    <tr>\n",
       "      <th>executed by</th>\n",
       "      <td>NaN</td>\n",
       "      <td>NaN</td>\n",
       "      <td>[J. , M. (S., J.)]</td>\n",
       "      <td>NaN</td>\n",
       "    </tr>\n",
       "    <tr>\n",
       "      <th>has data resource</th>\n",
       "      <td>NaN</td>\n",
       "      <td>NaN</td>\n",
       "      <td>[{'Data Resource': {'has data resource location': 'http://microservice_dbdocker:27777/api/S355_SteelSheet/S355_r2n.ipynb/0c7e18fcc77d44b68043bb6d', 'hasIdentifier': 'dataresource_native'}}, {'Data...</td>\n",
       "      <td>NaN</td>\n",
       "    </tr>\n",
       "    <tr>\n",
       "      <th>has generated object identifier</th>\n",
       "      <td>NaN</td>\n",
       "      <td>NaN</td>\n",
       "      <td>Zx1</td>\n",
       "      <td>NaN</td>\n",
       "    </tr>\n",
       "    <tr>\n",
       "      <th>has measured maximum force</th>\n",
       "      <td>NaN</td>\n",
       "      <td>NaN</td>\n",
       "      <td>{'unit': 'Kilonewton', 'value': 62.006923703333335}</td>\n",
       "      <td>NaN</td>\n",
       "    </tr>\n",
       "    <tr>\n",
       "      <th>has measured modulus of elasticity</th>\n",
       "      <td>NaN</td>\n",
       "      <td>NaN</td>\n",
       "      <td>{'unit': 'Gigapascal', 'value': 194}</td>\n",
       "      <td>NaN</td>\n",
       "    </tr>\n",
       "    <tr>\n",
       "      <th>has measured original diameter</th>\n",
       "      <td>NaN</td>\n",
       "      <td>NaN</td>\n",
       "      <td>{'unit': 'Millimetre', 'value': 5.992}</td>\n",
       "      <td>NaN</td>\n",
       "    </tr>\n",
       "    <tr>\n",
       "      <th>has measured parallel length original width</th>\n",
       "      <td>NaN</td>\n",
       "      <td>NaN</td>\n",
       "      <td>{'unit': 'Millimetre', 'value': 20.131}</td>\n",
       "      <td>NaN</td>\n",
       "    </tr>\n",
       "    <tr>\n",
       "      <th>has measured temperature</th>\n",
       "      <td>NaN</td>\n",
       "      <td>NaN</td>\n",
       "      <td>True</td>\n",
       "      <td>NaN</td>\n",
       "    </tr>\n",
       "    <tr>\n",
       "      <th>has measured testing rate</th>\n",
       "      <td>NaN</td>\n",
       "      <td>NaN</td>\n",
       "      <td>{'unit': 'Millimetre Per Second', 'value': '0,536'}</td>\n",
       "      <td>NaN</td>\n",
       "    </tr>\n",
       "    <tr>\n",
       "      <th>has measured thickness after fracture</th>\n",
       "      <td>NaN</td>\n",
       "      <td>NaN</td>\n",
       "      <td>{'unit': 'Millimetre', 'value': 3.52}</td>\n",
       "      <td>NaN</td>\n",
       "    </tr>\n",
       "    <tr>\n",
       "      <th>has nominal original gauge length</th>\n",
       "      <td>NaN</td>\n",
       "      <td>NaN</td>\n",
       "      <td>{'unit': 'Millimetre', 'value': 50}</td>\n",
       "      <td>NaN</td>\n",
       "    </tr>\n",
       "    <tr>\n",
       "      <th>has nominal temperature</th>\n",
       "      <td>NaN</td>\n",
       "      <td>NaN</td>\n",
       "      <td>{'unit': 'Degree Celsius', 'value': 20}</td>\n",
       "      <td>NaN</td>\n",
       "    </tr>\n",
       "    <tr>\n",
       "      <th>has output object</th>\n",
       "      <td>NaN</td>\n",
       "      <td>NaN</td>\n",
       "      <td>[{'Object': {'hasIdentifier': 'obj'}}]</td>\n",
       "      <td>NaN</td>\n",
       "    </tr>\n",
       "    <tr>\n",
       "      <th>has supplied identifier</th>\n",
       "      <td>NaN</td>\n",
       "      <td>NaN</td>\n",
       "      <td>AG Ontologie Zugversuch Zx1</td>\n",
       "      <td>NaN</td>\n",
       "    </tr>\n",
       "    <tr>\n",
       "      <th>Zx1.csv</th>\n",
       "      <td>NaN</td>\n",
       "      <td>NaN</td>\n",
       "      <td>NaN</td>\n",
       "      <td>{'data': [[0, 0, '0,25459', '0,05855'], ['0,1', '0,00104', '0,2551', '0,05854'], ['0,2', '0,00284', '0,25807', '0,0586'], ['0,3', '0,00544', '0,26516', '0,05864'], ['0,4', '0,00888', '0,28904', '0...</td>\n",
       "    </tr>\n",
       "  </tbody>\n",
       "</table>\n",
       "</div>"
      ],
      "text/plain": [
       "                                                                                                                              Data Resource  \\\n",
       "has data resource location                   http://microservice_dbdocker:27777/api/S355_SteelSheet/S355_n2c.ipynb/804a2653db074a088c97832f   \n",
       "hasIdentifier                                                                                                            dataresource_canon   \n",
       "supplied object identifier                                                                                                              NaN   \n",
       "Material                                                                                                                                NaN   \n",
       "executed by                                                                                                                             NaN   \n",
       "has data resource                                                                                                                       NaN   \n",
       "has generated object identifier                                                                                                         NaN   \n",
       "has measured maximum force                                                                                                              NaN   \n",
       "has measured modulus of elasticity                                                                                                      NaN   \n",
       "has measured original diameter                                                                                                          NaN   \n",
       "has measured parallel length original width                                                                                             NaN   \n",
       "has measured temperature                                                                                                                NaN   \n",
       "has measured testing rate                                                                                                               NaN   \n",
       "has measured thickness after fracture                                                                                                   NaN   \n",
       "has nominal original gauge length                                                                                                       NaN   \n",
       "has nominal temperature                                                                                                                 NaN   \n",
       "has output object                                                                                                                       NaN   \n",
       "has supplied identifier                                                                                                                 NaN   \n",
       "Zx1.csv                                                                                                                                 NaN   \n",
       "\n",
       "                                            Object  \\\n",
       "has data resource location                     NaN   \n",
       "hasIdentifier                                  obj   \n",
       "supplied object identifier                     Zx1   \n",
       "Material                                       NaN   \n",
       "executed by                                    NaN   \n",
       "has data resource                              NaN   \n",
       "has generated object identifier                NaN   \n",
       "has measured maximum force                     NaN   \n",
       "has measured modulus of elasticity             NaN   \n",
       "has measured original diameter                 NaN   \n",
       "has measured parallel length original width    NaN   \n",
       "has measured temperature                       NaN   \n",
       "has measured testing rate                      NaN   \n",
       "has measured thickness after fracture          NaN   \n",
       "has nominal original gauge length              NaN   \n",
       "has nominal temperature                        NaN   \n",
       "has output object                              NaN   \n",
       "has supplied identifier                        NaN   \n",
       "Zx1.csv                                        NaN   \n",
       "\n",
       "                                                                                                                                                                                                                                        Tensile Test  \\\n",
       "has data resource location                                                                                                                                                                                                                       NaN   \n",
       "hasIdentifier                                                                                                                                                                                                                                    NaN   \n",
       "supplied object identifier                                                                                                                                                                                                                       NaN   \n",
       "Material                                                                                                                                                                                                                                        S355   \n",
       "executed by                                                                                                                                                                                                                       [J. , M. (S., J.)]   \n",
       "has data resource                            [{'Data Resource': {'has data resource location': 'http://microservice_dbdocker:27777/api/S355_SteelSheet/S355_r2n.ipynb/0c7e18fcc77d44b68043bb6d', 'hasIdentifier': 'dataresource_native'}}, {'Data...   \n",
       "has generated object identifier                                                                                                                                                                                                                  Zx1   \n",
       "has measured maximum force                                                                                                                                                                       {'unit': 'Kilonewton', 'value': 62.006923703333335}   \n",
       "has measured modulus of elasticity                                                                                                                                                                              {'unit': 'Gigapascal', 'value': 194}   \n",
       "has measured original diameter                                                                                                                                                                                {'unit': 'Millimetre', 'value': 5.992}   \n",
       "has measured parallel length original width                                                                                                                                                                  {'unit': 'Millimetre', 'value': 20.131}   \n",
       "has measured temperature                                                                                                                                                                                                                        True   \n",
       "has measured testing rate                                                                                                                                                                        {'unit': 'Millimetre Per Second', 'value': '0,536'}   \n",
       "has measured thickness after fracture                                                                                                                                                                          {'unit': 'Millimetre', 'value': 3.52}   \n",
       "has nominal original gauge length                                                                                                                                                                                {'unit': 'Millimetre', 'value': 50}   \n",
       "has nominal temperature                                                                                                                                                                                      {'unit': 'Degree Celsius', 'value': 20}   \n",
       "has output object                                                                                                                                                                                             [{'Object': {'hasIdentifier': 'obj'}}]   \n",
       "has supplied identifier                                                                                                                                                                                                  AG Ontologie Zugversuch Zx1   \n",
       "Zx1.csv                                                                                                                                                                                                                                          NaN   \n",
       "\n",
       "                                                                                                                                                                                                                                          dataseries  \n",
       "has data resource location                                                                                                                                                                                                                       NaN  \n",
       "hasIdentifier                                                                                                                                                                                                                                    NaN  \n",
       "supplied object identifier                                                                                                                                                                                                                       NaN  \n",
       "Material                                                                                                                                                                                                                                         NaN  \n",
       "executed by                                                                                                                                                                                                                                      NaN  \n",
       "has data resource                                                                                                                                                                                                                                NaN  \n",
       "has generated object identifier                                                                                                                                                                                                                  NaN  \n",
       "has measured maximum force                                                                                                                                                                                                                       NaN  \n",
       "has measured modulus of elasticity                                                                                                                                                                                                               NaN  \n",
       "has measured original diameter                                                                                                                                                                                                                   NaN  \n",
       "has measured parallel length original width                                                                                                                                                                                                      NaN  \n",
       "has measured temperature                                                                                                                                                                                                                         NaN  \n",
       "has measured testing rate                                                                                                                                                                                                                        NaN  \n",
       "has measured thickness after fracture                                                                                                                                                                                                            NaN  \n",
       "has nominal original gauge length                                                                                                                                                                                                                NaN  \n",
       "has nominal temperature                                                                                                                                                                                                                          NaN  \n",
       "has output object                                                                                                                                                                                                                                NaN  \n",
       "has supplied identifier                                                                                                                                                                                                                          NaN  \n",
       "Zx1.csv                                      {'data': [[0, 0, '0,25459', '0,05855'], ['0,1', '0,00104', '0,2551', '0,05854'], ['0,2', '0,00284', '0,25807', '0,0586'], ['0,3', '0,00544', '0,26516', '0,05864'], ['0,4', '0,00888', '0,28904', '0...  "
      ]
     },
     "execution_count": 8,
     "metadata": {},
     "output_type": "execute_result"
    }
   ],
   "source": [
    "job.experimental_json"
   ]
  },
  {
   "cell_type": "markdown",
   "id": "9000889d",
   "metadata": {},
   "source": [
    "### Extracting stress and strain data from the dataset"
   ]
  },
  {
   "cell_type": "code",
   "execution_count": 9,
   "id": "093d639b",
   "metadata": {},
   "outputs": [],
   "source": [
    "job.extract_stress_strain()"
   ]
  },
  {
   "cell_type": "code",
   "execution_count": 10,
   "id": "c2d056f1",
   "metadata": {},
   "outputs": [],
   "source": [
    "stresses = job.input.stresses.copy()\n",
    "strains = job.input.strains.copy()"
   ]
  },
  {
   "cell_type": "code",
   "execution_count": 11,
   "id": "295e0f53",
   "metadata": {},
   "outputs": [
    {
     "data": {
      "image/png": "[encoded data removed]",
      "text/plain": [
       "<Figure size 432x288 with 1 Axes>"
      ]
     },
     "metadata": {
      "needs_background": "light"
     },
     "output_type": "display_data"
    }
   ],
   "source": [
    "job.plot_stress_strain()"
   ]
  },
  {
   "cell_type": "markdown",
   "id": "7b678da3",
   "metadata": {},
   "source": [
    "## Calculating the elastic modulus"
   ]
  },
  {
   "cell_type": "code",
   "execution_count": 12,
   "id": "fd8bff50",
   "metadata": {
    "scrolled": true
   },
   "outputs": [
    {
     "name": "stdout",
     "output_type": "stream",
     "text": [
      "The job tensile_job was saved and received the ID: 5\n"
     ]
    }
   ],
   "source": [
    "job.run()"
   ]
  },
  {
   "cell_type": "code",
   "execution_count": 13,
   "id": "31805e03",
   "metadata": {},
   "outputs": [
    {
     "data": {
      "text/plain": [
       "181.58485412597656"
      ]
     },
     "execution_count": 13,
     "metadata": {},
     "output_type": "execute_result"
    }
   ],
   "source": [
    "job.output.elastic_modulus"
   ]
  },
  {
   "cell_type": "markdown",
   "id": "a33272ee",
   "metadata": {},
   "source": [
    "### Return the calculated value to the triple store"
   ]
  },
  {
   "cell_type": "code",
   "execution_count": 14,
   "id": "97660f78",
   "metadata": {},
   "outputs": [],
   "source": [
    "job.update_triple_store(test_name='Zx1')"
   ]
  },
  {
   "cell_type": "code",
   "execution_count": 15,
   "id": "01808ced",
   "metadata": {
    "scrolled": true
   },
   "outputs": [
    {
     "name": "stdout",
     "output_type": "stream",
     "text": [
      "{'head': {'vars': ['tt', 'o']}, 'results': {'bindings': [{'tt': {'type': 'uri', 'value': 'https://material-digital.de/entity/e3f8b96eb74a4d799e2f5ae4e5e1c8f8'}, 'o': {'type': 'uri', 'value': 'https://material-digital.de/entity/6a006bea3b9e4054bcc36d9410f44296'}}]}}\n"
     ]
    }
   ],
   "source": [
    "results = job.verify_update()"
   ]
  },
  {
   "cell_type": "markdown",
   "id": "5f9cf9a9",
   "metadata": {},
   "source": [
    "## Verifying the hdf5 file storage"
   ]
  },
  {
   "cell_type": "code",
   "execution_count": 16,
   "id": "43ad7994",
   "metadata": {},
   "outputs": [],
   "source": [
    "job_load = pr.load(job.name)"
   ]
  },
  {
   "cell_type": "code",
   "execution_count": 17,
   "id": "6d1f4a87",
   "metadata": {},
   "outputs": [
    {
     "data": {
      "application/json": {
       "elastic_modulus": "181.58485412597656"
      },
      "text/html": [
       "<pre>DataContainer({\n",
       "  \"elastic_modulus\": \"181.58485412597656\"\n",
       "})</pre>"
      ],
      "text/plain": [
       "DataContainer({'elastic_modulus': 181.58485412597656})"
      ]
     },
     "execution_count": 17,
     "metadata": {},
     "output_type": "execute_result"
    }
   ],
   "source": [
    "job_load.output"
   ]
  },
  {
   "cell_type": "code",
   "execution_count": 18,
   "id": "7644dfdc",
   "metadata": {},
   "outputs": [
    {
     "data": {
      "application/json": {
       "strains": "array([0.00000e+00, 4.00000e-05, 1.10000e-04, 5.00000e-04, 9.20000e-04,\n       1.46000e-03, 1.98000e-03, 2.45000e-03, 2.80000e-03, 2.97000e-03,\n       3.14000e-03, 3.56000e-03, 3.93000e-03, 4.34000e-03, 4.72000e-03,\n       5.20000e-03, 5.60000e-03, 6.03000e-03, 6.47000e-03, 6.83000e-03,\n       7.31000e-03, 7.73000e-03, 8.15000e-03, 8.59000e-03, 9.00000e-03,\n       9.43000e-03, 9.87000e-03, 1.03200e-02, 1.08000e-02, 1.12800e-02,\n       1.17500e-02, 1.21800e-02, 1.27200e-02, 1.31900e-02, 1.36400e-02,\n       1.41300e-02, 1.46000e-02, 1.50700e-02, 1.55200e-02, 1.60000e-02,\n       1.64500e-02, 1.69100e-02, 1.73600e-02, 1.78800e-02, 1.83200e-02,\n       1.87600e-02, 1.92200e-02, 1.96800e-02, 2.01600e-02, 2.06800e-02,\n       2.11700e-02, 2.16700e-02, 2.21000e-02, 2.25200e-02, 2.30200e-02,\n       2.34600e-02, 2.38900e-02, 2.43900e-02, 2.48900e-02, 2.53600e-02,\n       2.57800e-02, 2.62400e-02, 2.66800e-02, 2.71400e-02, 2.76000e-02,\n       2.80200e-02, 2.84600e-02, 2.88700e-02, 2.92900e-02, 2.97900e-02,\n       3.02600e-02, 3.07200e-02, 3.12100e-02, 3.17000e-02, 3.21400e-02,\n       3.25700e-02, 3.30100e-02, 3.34600e-02, 3.38900e-02, 3.42900e-02,\n       3.47400e-02, 3.51800e-02, 3.56100e-02, 3.60700e-02, 3.65000e-02,\n       3.69400e-02, 3.73800e-02, 3.78100e-02, 3.82700e-02, 3.87300e-02,\n       3.91800e-02, 3.96800e-02, 4.01500e-02, 4.06100e-02, 4.10800e-02,\n       4.15200e-02, 4.19500e-02, 4.24100e-02, 4.28600e-02, 4.33200e-02,\n       4.37300e-02, 4.41800e-02, 4.46400e-02, 4.50700e-02, 4.55100e-02,\n       4.59400e-02, 4.63800e-02, 4.68200e-02, 4.72600e-02, 4.76800e-02,\n       4.80900e-02, 4.85500e-02, 4.89800e-02, 4.94100e-02, 4.98600e-02,\n       5.02700e-02, 5.06800e-02, 5.11400e-02, 5.16300e-02, 5.20800e-02,\n       5.25100e-02, 5.29500e-02, 5.34200e-02, 5.39200e-02, 5.43600e-02,\n       5.47900e-02, 5.52300e-02, 5.56700e-02, 5.60600e-02, 5.65000e-02,\n       5.69700e-02, 5.74200e-02, 5.78600e-02, 5.83400e-02, 5.87900e-02,\n       5.91900e-02, 5.96300e-02, 6.01100e-02, 6.05700e-02, 6.10400e-02,\n       6.14900e-02, 6.19600e-02, 6.23700e-02, 6.28300e-02, 6.32900e-02,\n       6.37600e-02, 6.42100e-02, 6.46900e-02, 6.51800e-02, 6.56400e-02,\n       6.60900e-02, 6.65800e-02, 6.70500e-02, 6.74800e-02, 6.79100e-02,\n       6.84100e-02, 6.88900e-02, 6.93500e-02, 6.97900e-02, 7.02500e-02,\n       7.06700e-02, 7.11500e-02, 7.16400e-02, 7.21000e-02, 7.25700e-02,\n       7.30300e-02, 7.35000e-02, 7.39500e-02, 7.44100e-02, 7.48900e-02,\n       7.53500e-02, 7.57800e-02, 7.62500e-02, 7.66800e-02, 7.71500e-02,\n       7.76300e-02, 7.80900e-02, 7.85700e-02, 7.90300e-02, 7.94600e-02,\n       7.99000e-02, 8.04200e-02, 8.09200e-02, 8.13500e-02, 8.18500e-02,\n       8.23000e-02, 8.28000e-02, 8.32900e-02, 8.37800e-02, 8.42300e-02,\n       8.46900e-02, 8.51900e-02, 8.56100e-02, 8.60600e-02, 8.65500e-02,\n       8.70400e-02, 8.75200e-02, 8.79400e-02, 8.83600e-02, 8.87900e-02,\n       8.92500e-02, 8.96900e-02, 9.01700e-02, 9.06200e-02, 9.10900e-02,\n       9.15300e-02, 9.19600e-02, 9.24500e-02, 9.29300e-02, 9.33800e-02,\n       9.39100e-02, 9.43900e-02, 9.48300e-02, 9.52800e-02, 9.57200e-02,\n       9.61400e-02, 9.65800e-02, 9.70300e-02, 9.75400e-02, 9.79800e-02,\n       9.84400e-02, 9.88800e-02, 9.93300e-02, 9.97900e-02, 1.00270e-01,\n       1.00730e-01, 1.01190e-01, 1.01670e-01, 1.02160e-01, 1.02620e-01,\n       1.03090e-01, 1.03550e-01, 1.03990e-01, 1.04490e-01, 1.04960e-01,\n       1.05420e-01, 1.05890e-01, 1.06340e-01, 1.06800e-01, 1.07290e-01,\n       1.07760e-01, 1.08230e-01, 1.08690e-01, 1.09160e-01, 1.09610e-01,\n       1.10090e-01, 1.10580e-01, 1.11100e-01, 1.11560e-01, 1.12010e-01,\n       1.12510e-01, 1.13050e-01, 1.13550e-01, 1.14010e-01, 1.14460e-01,\n       1.14940e-01, 1.15460e-01, 1.15940e-01, 1.16420e-01, 1.16920e-01,\n       1.17470e-01, 1.17950e-01, 1.18460e-01, 1.18960e-01, 1.19440e-01,\n       1.19900e-01, 1.20420e-01, 1.20990e-01, 1.21520e-01, 1.22070e-01,\n       1.22630e-01, 1.23180e-01, 1.23730e-01, 1.24290e-01, 1.24830e-01,\n       1.25380e-01, 1.25930e-01, 1.26470e-01, 1.27000e-01, 1.27500e-01,\n       1.27970e-01, 1.28530e-01, 1.29080e-01, 1.29630e-01, 1.30190e-01,\n       1.30770e-01, 1.31340e-01, 1.31860e-01, 1.32450e-01, 1.33040e-01,\n       1.33670e-01, 1.34250e-01, 1.34870e-01, 1.35460e-01, 1.36040e-01,\n       1.36610e-01, 1.37190e-01, 1.37740e-01, 1.38320e-01, 1.38920e-01,\n       1.39500e-01, 1.40060e-01, 1.40620e-01, 1.41200e-01, 1.41790e-01,\n       1.42370e-01, 1.42980e-01, 1.43620e-01, 1.44270e-01, 1.44870e-01,\n       1.45490e-01, 1.46120e-01, 1.46730e-01, 1.47360e-01, 1.48010e-01,\n       1.48620e-01, 1.49230e-01, 1.49850e-01, 1.50510e-01, 1.51160e-01,\n       1.51820e-01, 1.52530e-01, 1.53220e-01, 1.53880e-01, 1.54580e-01,\n       1.55320e-01, 1.56020e-01, 1.56700e-01, 1.57350e-01, 1.58050e-01,\n       1.58740e-01, 1.59430e-01, 1.60150e-01, 1.60870e-01, 1.61590e-01,\n       1.62360e-01, 1.63090e-01, 1.63820e-01, 1.64630e-01, 1.65390e-01,\n       1.66180e-01, 1.66970e-01, 1.67720e-01, 1.68480e-01, 1.69220e-01,\n       1.70010e-01, 1.70800e-01, 1.71550e-01, 1.72360e-01, 1.73130e-01,\n       1.73960e-01, 1.74800e-01, 1.75710e-01, 1.76620e-01, 1.77480e-01,\n       1.78400e-01, 1.79320e-01, 1.80220e-01, 1.81080e-01, 1.81960e-01,\n       1.82860e-01, 1.83760e-01, 1.84780e-01, 1.85790e-01, 1.86780e-01,\n       1.87770e-01, 1.88750e-01, 1.89830e-01, 1.90880e-01, 1.91950e-01,\n       1.93000e-01, 1.94030e-01, 1.95180e-01, 1.96400e-01, 1.97500e-01,\n       1.98610e-01, 1.99770e-01, 2.00990e-01, 2.02220e-01, 2.03410e-01,\n       2.04600e-01, 2.05970e-01, 2.07270e-01, 2.08520e-01, 2.09790e-01,\n       2.11160e-01, 2.12580e-01, 2.14000e-01, 2.15520e-01, 2.17060e-01,\n       2.18510e-01, 2.20070e-01, 2.21640e-01, 2.23260e-01, 2.24880e-01,\n       2.26680e-01, 2.28480e-01, 2.30230e-01, 2.32110e-01, 2.33920e-01,\n       2.35800e-01, 2.37930e-01, 2.39940e-01, 2.42030e-01, 2.44260e-01,\n       2.46610e-01, 2.48920e-01, 2.51220e-01, 2.53610e-01, 2.56240e-01,\n       2.59090e-01, 2.61790e-01, 2.64540e-01, 2.67460e-01, 2.70440e-01,\n       2.73310e-01, 2.76120e-01, 2.78990e-01, 2.81760e-01, 2.84530e-01,\n       2.87260e-01, 2.90030e-01, 2.92710e-01, 2.95360e-01, 2.98070e-01,\n       3.00850e-01, 3.03390e-01, 3.06040e-01, 3.08690e-01, 3.11400e-01,\n       3.13960e-01, 3.16530e-01, 3.19110e-01, 3.21760e-01, 3.24500e-01,\n       3.27150e-01, 3.29790e-01, 3.32430e-01, 3.35010e-01, 3.37610e-01,\n       3.40250e-01, 3.42830e-01, 3.45310e-01, 3.47820e-01, 3.50430e-01,\n       3.52990e-01, 3.55540e-01, 3.58100e-01, 3.60700e-01, 3.63360e-01,\n       3.65930e-01, 3.68560e-01, 3.71160e-01, 3.73670e-01, 3.76170e-01,\n       3.78670e-01, 3.81250e-01, 3.83760e-01, 3.86280e-01, 3.88780e-01,\n       3.91240e-01, 3.93730e-01, 3.96220e-01, 3.98660e-01, 4.01210e-01,\n       4.03820e-01, 4.06350e-01, 4.08900e-01, 4.11420e-01, 4.13950e-01,\n       4.16520e-01, 4.19020e-01, 4.21520e-01, 4.24080e-01, 4.26540e-01,\n       4.29000e-01, 4.31550e-01, 4.34160e-01, 4.36670e-01, 4.39070e-01,\n       4.41510e-01, 4.44080e-01, 4.46600e-01, 4.49150e-01, 4.51660e-01,\n       4.54290e-01, 4.56770e-01, 4.59260e-01, 4.57570e-01, 4.61120e-01,\n       4.64870e-01, 4.68310e-01, 4.71610e-01, 4.74690e-01, 4.77530e-01,\n       4.80140e-01, 4.82570e-01, 4.84950e-01, 4.87320e-01, 4.89540e-01,\n       4.91780e-01, 4.94120e-01, 4.96580e-01, 4.98900e-01, 5.01370e-01,\n       5.03900e-01, 5.06460e-01, 5.08990e-01, 5.11510e-01, 5.14060e-01,\n       5.16620e-01, 5.19070e-01, 5.21430e-01, 5.23800e-01, 5.26300e-01,\n       5.28760e-01, 5.31200e-01, 5.33560e-01, 5.36040e-01, 5.38530e-01,\n       5.41020e-01, 5.43500e-01, 5.46020e-01, 5.48490e-01, 5.50960e-01,\n       5.53500e-01, 5.56090e-01, 5.58750e-01, 5.61360e-01, 5.63960e-01,\n       5.66650e-01, 5.69250e-01, 5.71810e-01, 5.74330e-01, 5.76810e-01,\n       5.79330e-01, 5.81660e-01, 5.84100e-01, 5.86620e-01, 5.89140e-01,\n       5.91740e-01, 5.94220e-01, 5.96760e-01, 5.99330e-01, 6.01760e-01,\n       6.04190e-01, 6.05530e-01, 6.06640e-01, 6.09990e-01, 6.13330e-01,\n       6.16480e-01, 6.19640e-01, 6.22620e-01, 6.25270e-01, 6.27760e-01,\n       6.30110e-01, 6.32440e-01, 6.34740e-01, 6.37070e-01, 6.39430e-01,\n       6.41840e-01, 6.44160e-01, 6.46520e-01, 6.49020e-01, 6.51520e-01,\n       6.54010e-01, 6.56480e-01, 6.58990e-01, 6.61560e-01, 6.63960e-01,\n       6.66510e-01, 6.69030e-01, 6.71570e-01, 6.74110e-01, 6.76630e-01,\n       6.79240e-01, 6.81880e-01, 6.84460e-01, 6.87010e-01, 6.89630e-01,\n       6.92150e-01, 6.94650e-01, 6.97020e-01, 6.99530e-01, 7.02020e-01,\n       7.04460e-01, 7.06910e-01, 7.09360e-01, 7.11830e-01, 7.14330e-01,\n       7.16860e-01, 7.18710e-01, 7.19420e-01, 7.22600e-01, 7.25880e-01,\n       7.29050e-01, 7.32100e-01, 7.35010e-01, 7.37620e-01, 7.40140e-01,\n       7.42580e-01, 7.44930e-01, 7.47330e-01, 7.49710e-01, 7.52120e-01,\n       7.54550e-01, 7.57040e-01, 7.59480e-01, 7.62000e-01, 7.64560e-01,\n       7.67050e-01, 7.69490e-01, 7.71980e-01, 7.74490e-01, 7.77050e-01,\n       7.79560e-01, 7.82120e-01, 7.84640e-01, 7.87130e-01, 7.89690e-01,\n       7.92160e-01, 7.94710e-01, 7.97250e-01, 7.99730e-01, 8.02180e-01,\n       8.04680e-01, 8.07180e-01, 8.09690e-01, 8.12260e-01, 8.14820e-01,\n       8.17440e-01, 8.20010e-01, 8.22630e-01, 8.25240e-01, 8.27760e-01,\n       8.30270e-01, 8.32790e-01, 8.35290e-01, 8.37790e-01, 8.40240e-01,\n       8.42670e-01, 8.45170e-01, 8.47610e-01, 8.50120e-01, 8.52560e-01,\n       8.55110e-01, 8.57590e-01, 8.60150e-01, 8.62770e-01, 8.65360e-01,\n       8.68000e-01, 8.70640e-01, 8.73280e-01, 8.75890e-01, 8.78450e-01,\n       8.80950e-01, 8.83370e-01, 8.85840e-01, 8.88330e-01, 8.90820e-01,\n       8.93200e-01, 8.95690e-01, 8.98120e-01, 9.00640e-01, 9.03190e-01,\n       9.05720e-01, 9.08280e-01, 9.10800e-01, 9.13320e-01, 9.15900e-01,\n       9.18420e-01, 9.20940e-01, 9.23360e-01, 9.25810e-01, 9.28160e-01,\n       9.30500e-01, 9.32820e-01, 9.35110e-01, 9.37490e-01, 9.39820e-01,\n       9.42270e-01, 9.44710e-01, 9.47270e-01, 9.49740e-01, 9.52280e-01,\n       9.54760e-01, 9.57340e-01, 9.59830e-01, 9.62300e-01, 9.64790e-01,\n       9.67320e-01, 9.69840e-01, 9.72340e-01, 9.74820e-01, 9.77300e-01,\n       9.79790e-01, 9.82310e-01, 9.84820e-01, 9.87350e-01, 9.89720e-01,\n       9.92180e-01, 9.94720e-01, 9.97220e-01, 9.99790e-01, 1.00229e+00,\n       1.00480e+00, 1.00737e+00, 1.01000e+00, 1.01257e+00, 1.01521e+00,\n       1.01781e+00, 1.02045e+00, 1.02304e+00, 1.02556e+00, 1.02809e+00,\n       1.03061e+00, 1.03306e+00, 1.03556e+00, 1.03802e+00, 1.04047e+00,\n       1.04287e+00, 1.04539e+00, 1.04784e+00, 1.05035e+00, 1.05285e+00,\n       1.05533e+00, 1.05783e+00, 1.06026e+00, 1.06275e+00, 1.06527e+00,\n       1.06776e+00, 1.07028e+00, 1.07277e+00, 1.07518e+00, 1.07781e+00,\n       1.08035e+00, 1.08283e+00, 1.08529e+00, 1.08781e+00, 1.09041e+00,\n       1.09292e+00, 1.09540e+00, 1.09783e+00, 1.10033e+00, 1.10275e+00,\n       1.10527e+00, 1.10779e+00, 1.11024e+00, 1.11271e+00, 1.11523e+00,\n       1.11769e+00, 1.12024e+00, 1.12275e+00, 1.12523e+00, 1.12770e+00,\n       1.13020e+00, 1.13277e+00, 1.13530e+00, 1.13783e+00, 1.14037e+00,\n       1.14291e+00, 1.14549e+00, 1.14801e+00, 1.15053e+00, 1.15297e+00,\n       1.15544e+00, 1.15792e+00, 1.16031e+00, 1.16290e+00, 1.16524e+00,\n       1.16769e+00, 1.17015e+00, 1.17268e+00, 1.17520e+00, 1.17767e+00,\n       1.18025e+00, 1.18267e+00, 1.18525e+00, 1.18774e+00, 1.19023e+00,\n       1.19275e+00, 1.19524e+00, 1.19769e+00, 1.20027e+00, 1.20275e+00,\n       1.20531e+00, 1.20770e+00, 1.21027e+00, 1.21279e+00, 1.21524e+00,\n       1.21770e+00, 1.22011e+00, 1.22260e+00, 1.22513e+00, 1.22766e+00,\n       1.23009e+00, 1.23264e+00, 1.23514e+00, 1.23762e+00, 1.24014e+00,\n       1.24284e+00, 1.24536e+00, 1.24790e+00, 1.25044e+00, 1.25305e+00,\n       1.25567e+00, 1.25821e+00, 1.26072e+00, 1.26322e+00, 1.26576e+00,\n       1.26820e+00, 1.27070e+00, 1.27315e+00, 1.27558e+00, 1.27800e+00,\n       1.28052e+00, 1.28304e+00, 1.28552e+00, 1.28789e+00, 1.29034e+00,\n       1.29274e+00, 1.29533e+00, 1.29785e+00, 1.30027e+00, 1.30269e+00,\n       1.30518e+00, 1.30768e+00, 1.31019e+00, 1.31259e+00, 1.31511e+00,\n       1.31760e+00, 1.32009e+00, 1.32257e+00, 1.32515e+00, 1.32760e+00,\n       1.33004e+00, 1.33250e+00, 1.33495e+00, 1.33744e+00, 1.33990e+00,\n       1.34227e+00, 1.34476e+00, 1.34725e+00, 1.34976e+00, 1.35225e+00,\n       1.35470e+00, 1.35731e+00, 1.35984e+00, 1.36240e+00, 1.36498e+00,\n       1.36759e+00, 1.37013e+00, 1.37262e+00, 1.37512e+00, 1.37767e+00,\n       1.38015e+00, 1.38254e+00, 1.38493e+00, 1.38739e+00, 1.38991e+00,\n       1.39237e+00, 1.39463e+00, 1.39326e+00, 1.39719e+00, 1.40130e+00,\n       1.40515e+00, 1.40851e+00, 1.41137e+00, 1.41381e+00, 1.41612e+00,\n       1.41830e+00, 1.42038e+00, 1.42253e+00, 1.42465e+00, 1.42693e+00,\n       1.42939e+00, 1.43191e+00, 1.43442e+00, 1.43692e+00, 1.43953e+00,\n       1.44203e+00, 1.44461e+00, 1.44716e+00, 1.44963e+00, 1.45213e+00,\n       1.45466e+00, 1.45715e+00, 1.45971e+00, 1.46227e+00, 1.46470e+00,\n       1.46720e+00, 1.46974e+00, 1.47230e+00, 1.47471e+00, 1.47712e+00,\n       1.47957e+00, 1.48209e+00, 1.48449e+00, 1.48693e+00, 1.48935e+00,\n       1.49187e+00, 1.49437e+00, 1.49684e+00, 1.49944e+00, 1.50204e+00,\n       1.50447e+00, 1.50694e+00, 1.50935e+00, 1.51194e+00, 1.51435e+00,\n       1.51672e+00, 1.51909e+00, 1.52158e+00, 1.52402e+00, 1.52652e+00,\n       1.52902e+00, 1.53155e+00, 1.53410e+00, 1.53660e+00, 1.53919e+00,\n       1.54141e+00, 1.54146e+00, 1.54393e+00, 1.54485e+00, 1.54584e+00,\n       1.54707e+00, 1.54860e+00, 1.55044e+00, 1.55267e+00, 1.55528e+00,\n       1.55895e+00, 1.56404e+00, 1.57185e+00, 1.58513e+00, 1.61547e+00,\n       1.65792e+00, 1.69469e+00, 1.72855e+00, 1.75996e+00, 1.78920e+00,\n       1.81799e+00, 1.84623e+00, 1.85239e+00, 1.86566e+00, 1.86667e+00],\n      dtype=float32)",
       "stresses": "array([0.00213988, 0.00219867, 0.00239668, 0.00305166, 0.00388532,\n       0.00472512, 0.00555448, 0.00640075, 0.00723524, 0.00787504,\n       0.00840232, 0.00897844, 0.0097039 , 0.01053391, 0.01137007,\n       0.01220995, 0.01305216, 0.01390713, 0.01476078, 0.01560672,\n       0.01646882, 0.01730315, 0.01814992, 0.0189825 , 0.01983881,\n       0.02069047, 0.02153706, 0.02240133, 0.0232568 , 0.02410224,\n       0.02495697, 0.02579693, 0.0266539 , 0.02748649, 0.02834942,\n       0.02922554, 0.03010597, 0.03099005, 0.03183955, 0.03270514,\n       0.03358822, 0.03443383, 0.03530663, 0.03619594, 0.03702537,\n       0.0378636 , 0.03871036, 0.03955506, 0.04041758, 0.04129428,\n       0.04217521, 0.04305945, 0.04388905, 0.04472421, 0.04557545,\n       0.04642869, 0.0472981 , 0.04817728, 0.04906161, 0.0499456 ,\n       0.05077653, 0.05167695, 0.05252156, 0.05336061, 0.05420664,\n       0.05505456, 0.05591252, 0.05677206, 0.0576364 , 0.05850398,\n       0.05937512, 0.06024635, 0.06112098, 0.06199942, 0.06288516,\n       0.06377628, 0.06467371, 0.06558126, 0.06641791, 0.06725854,\n       0.0681015 , 0.06895175, 0.06979585, 0.07064693, 0.07149345,\n       0.07234469, 0.07321078, 0.07408193, 0.07495564, 0.07583822,\n       0.07671177, 0.07758151, 0.07845846, 0.07933458, 0.08021384,\n       0.08109105, 0.08196311, 0.08284336, 0.08371675, 0.08459643,\n       0.0854855 , 0.08636998, 0.08724958, 0.08812504, 0.08900199,\n       0.08987878, 0.09075829, 0.09163765, 0.09251485, 0.09338392,\n       0.09424403, 0.09509926, 0.09594751, 0.0968102 , 0.09767247,\n       0.0985267 , 0.0993728 , 0.10021401, 0.10105597, 0.10189511,\n       0.10274561, 0.10359362, 0.10443649, 0.10534585, 0.10618956,\n       0.10704163, 0.10791202, 0.1087869 , 0.10967264, 0.11055522,\n       0.11142198, 0.11229428, 0.11317462, 0.11406824, 0.11496451,\n       0.11585033, 0.116734  , 0.11761078, 0.1184796 , 0.11935887,\n       0.12024461, 0.1211364 , 0.12202065, 0.12291235, 0.12380149,\n       0.12470182, 0.12562107, 0.12653235, 0.12743714, 0.1283374 ,\n       0.1292374 , 0.13015299, 0.13107273, 0.13190979, 0.13274866,\n       0.13366643, 0.13457148, 0.13547081, 0.13637348, 0.13728872,\n       0.13811949, 0.13903384, 0.1399403 , 0.14084636, 0.14175308,\n       0.14266543, 0.14358151, 0.14449137, 0.14538126, 0.14625822,\n       0.14713284, 0.14801492, 0.14892015, 0.14983176, 0.15074818,\n       0.15165788, 0.15255895, 0.15346509, 0.1543767 , 0.15520903,\n       0.1560399 , 0.15694544, 0.15785283, 0.15875837, 0.15967488,\n       0.16050415, 0.16141823, 0.16232745, 0.16324006, 0.16414686,\n       0.1650558 , 0.1659757 , 0.16680671, 0.16764104, 0.16856144,\n       0.16947952, 0.17039892, 0.171232  , 0.17207472, 0.17292769,\n       0.17377512, 0.17461236, 0.1755316 , 0.17636676, 0.17720564,\n       0.17805614, 0.17890333, 0.17975001, 0.18059652, 0.1814341 ,\n       0.18235531, 0.1831869 , 0.18402594, 0.18487322, 0.18571867,\n       0.18656376, 0.1874    , 0.18823656, 0.18915273, 0.18999097,\n       0.19083905, 0.19169006, 0.19253598, 0.1933869 , 0.19423857,\n       0.19508722, 0.1959301 , 0.19677031, 0.1976205 , 0.19846576,\n       0.19930366, 0.20013765, 0.2009782 , 0.20182636, 0.20267388,\n       0.20352712, 0.20438723, 0.20523632, 0.2060713 , 0.20690995,\n       0.2077452 , 0.20858043, 0.20942058, 0.2102578 , 0.21109653,\n       0.2119325 , 0.21276642, 0.21368773, 0.21452537, 0.21536742,\n       0.21621153, 0.21706194, 0.21790099, 0.21873897, 0.21957828,\n       0.22041708, 0.22126369, 0.22211784, 0.22296982, 0.22380854,\n       0.22472662, 0.2255573 , 0.2264782 , 0.22730888, 0.2281428 ,\n       0.22897995, 0.22981542, 0.23072231, 0.23162405, 0.23253159,\n       0.23342729, 0.23432662, 0.23523682, 0.23613733, 0.23703773,\n       0.2379422 , 0.23884718, 0.23976086, 0.24059363, 0.24142613,\n       0.24225664, 0.24316518, 0.24406011, 0.24495953, 0.24586153,\n       0.24676932, 0.24768691, 0.24851659, 0.24941882, 0.25030622,\n       0.25118932, 0.25207403, 0.25296733, 0.2538598 , 0.25474435,\n       0.25562903, 0.25650182, 0.25737256, 0.2582431 , 0.25911757,\n       0.25999212, 0.26087263, 0.26173764, 0.2625932 , 0.2634506 ,\n       0.2643098 , 0.26518092, 0.26606062, 0.2669354 , 0.26780507,\n       0.26865265, 0.26950222, 0.27034578, 0.2711841 , 0.27202487,\n       0.2728749 , 0.27370772, 0.27453724, 0.27543184, 0.27632794,\n       0.27722394, 0.27812588, 0.27901575, 0.27991003, 0.2807929 ,\n       0.2816568 , 0.28251666, 0.2833873 , 0.2842708 , 0.2851554 ,\n       0.2860312 , 0.28690225, 0.2877587 , 0.28861776, 0.28948575,\n       0.29035473, 0.29122043, 0.29209045, 0.29294145, 0.2937791 ,\n       0.2946544 , 0.29550564, 0.29636484, 0.29723734, 0.29809707,\n       0.2989523 , 0.29978707, 0.30062544, 0.30147007, 0.30231717,\n       0.30316442, 0.30399942, 0.30488393, 0.30576766, 0.30663732,\n       0.30750093, 0.3083574 , 0.3092175 , 0.3100909 , 0.31095392,\n       0.31179348, 0.31262806, 0.31350914, 0.31439123, 0.31525755,\n       0.31611246, 0.31695083, 0.3178349 , 0.31870413, 0.31957123,\n       0.3204308 , 0.32127827, 0.3221601 , 0.32300738, 0.32383916,\n       0.32467124, 0.32554445, 0.32639876, 0.3272727 , 0.32812822,\n       0.32896537, 0.32983187, 0.3306752 , 0.33150598, 0.33234295,\n       0.33319935, 0.33406377, 0.33491045, 0.33575863, 0.33660787,\n       0.33743772, 0.3382681 , 0.33911967, 0.33998182, 0.34082478,\n       0.34166178, 0.34250134, 0.3433458 , 0.34418494, 0.34502223,\n       0.34586036, 0.3467089 , 0.34755763, 0.34839228, 0.34922737,\n       0.3500782 , 0.35092255, 0.35175422, 0.35258958, 0.35343698,\n       0.35427496, 0.35511777, 0.35595548, 0.35679826, 0.35762313,\n       0.3583902 , 0.359129  , 0.35982722, 0.36048466, 0.36112353,\n       0.3617349 , 0.36233783, 0.36293325, 0.36352697, 0.36408368,\n       0.36461806, 0.3651001 , 0.365585  , 0.36606792, 0.3665305 ,\n       0.3669636 , 0.36738226, 0.36780697, 0.3682486 , 0.36865938,\n       0.36906353, 0.3694346 , 0.36976403, 0.3700836 , 0.37039188,\n       0.3706912 , 0.3709689 , 0.37126735, 0.37156105, 0.3718482 ,\n       0.3721165 , 0.37239552, 0.3727154 , 0.3730307 , 0.3733171 ,\n       0.3735653 , 0.37379536, 0.3739835 , 0.37416744, 0.37434286,\n       0.37456724, 0.37477353, 0.37498018, 0.37516353, 0.37532938,\n       0.37550116, 0.37565872, 0.37583584, 0.37604603, 0.37624562,\n       0.37642646, 0.37658268, 0.37673002, 0.37687024, 0.37698847,\n       0.37710068, 0.37720698, 0.3773175 , 0.37742007, 0.37751907,\n       0.37762296, 0.37775183, 0.37784678, 0.37793556, 0.37801304,\n       0.37811196, 0.37819198, 0.37829527, 0.37839296, 0.3785022 ,\n       0.37859198, 0.37865898, 0.3787209 , 0.37902355, 0.37979594,\n       0.38003585, 0.37995812, 0.37970805, 0.3793689 , 0.37902114,\n       0.37870264, 0.3784242 , 0.37821293, 0.3780492 , 0.37794313,\n       0.37787747, 0.37786242, 0.37787014, 0.37786868, 0.37789097,\n       0.37789062, 0.37786576, 0.37781146, 0.3777577 , 0.37766868,\n       0.37757164, 0.3774845 , 0.37740505, 0.37736517, 0.37735176,\n       0.377333  , 0.3773331 , 0.37732753, 0.37736169, 0.37737805,\n       0.3773796 , 0.37737083, 0.37735283, 0.37733832, 0.37734032,\n       0.37736362, 0.37739155, 0.37742114, 0.37740546, 0.37736842,\n       0.37731147, 0.3772175 , 0.37712577, 0.37701997, 0.37691632,\n       0.37683383, 0.37676212, 0.37673748, 0.37672254, 0.37670946,\n       0.37670174, 0.37664437, 0.37658432, 0.37652034, 0.37646446,\n       0.37639874, 0.37639362, 0.3768904 , 0.37722555, 0.3772403 ,\n       0.37707976, 0.37679702, 0.37645987, 0.3761116 , 0.37582737,\n       0.37561518, 0.37548798, 0.37541276, 0.3753849 , 0.37539074,\n       0.37540796, 0.3754409 , 0.37549016, 0.3755199 , 0.3755535 ,\n       0.37556925, 0.37555754, 0.37554488, 0.37553018, 0.37549844,\n       0.37547687, 0.37547073, 0.37546086, 0.3754674 , 0.37547988,\n       0.3755024 , 0.37549528, 0.37546217, 0.3754201 , 0.3753671 ,\n       0.3752986 , 0.37523234, 0.37517124, 0.37513053, 0.37507623,\n       0.37504545, 0.37502122, 0.3750272 , 0.37504137, 0.3750587 ,\n       0.37507537, 0.37507802, 0.37551144, 0.37585446, 0.3759126 ,\n       0.37577304, 0.37554353, 0.37528318, 0.37503824, 0.37484708,\n       0.37471217, 0.3746253 , 0.37458417, 0.3746039 , 0.37462023,\n       0.3746607 , 0.3746874 , 0.37469628, 0.37472537, 0.37473816,\n       0.37475598, 0.37476245, 0.37478808, 0.37480664, 0.3748186 ,\n       0.3748248 , 0.37482595, 0.3748113 , 0.37480357, 0.37479943,\n       0.37477216, 0.37474066, 0.3747128 , 0.3746845 , 0.37465903,\n       0.37465847, 0.374682  , 0.37470257, 0.37472987, 0.37474793,\n       0.3747704 , 0.37478003, 0.37478423, 0.3747563 , 0.37470788,\n       0.37467188, 0.3746228 , 0.37458774, 0.37455538, 0.3745263 ,\n       0.37450507, 0.37449437, 0.3744699 , 0.37447572, 0.37448394,\n       0.37450814, 0.37452197, 0.37456253, 0.37459794, 0.37463018,\n       0.3746548 , 0.37466303, 0.37463352, 0.37457752, 0.37449795,\n       0.3744293 , 0.3743656 , 0.37432688, 0.37428242, 0.37424088,\n       0.3742211 , 0.37421802, 0.37423417, 0.37424362, 0.37426367,\n       0.37427637, 0.3742892 , 0.3742962 , 0.3742801 , 0.3742538 ,\n       0.3742064 , 0.3741612 , 0.37409934, 0.37401924, 0.37393788,\n       0.37387994, 0.3738472 , 0.37383273, 0.3738383 , 0.3738818 ,\n       0.37393987, 0.3739893 , 0.37403417, 0.37405422, 0.37405288,\n       0.37405175, 0.37403393, 0.37400964, 0.3739956 , 0.37398872,\n       0.37397397, 0.3739541 , 0.37393945, 0.3739233 , 0.37391004,\n       0.37388623, 0.37385365, 0.37381402, 0.3737863 , 0.37375084,\n       0.37375233, 0.37376642, 0.3737695 , 0.37377307, 0.37377596,\n       0.37379527, 0.37380713, 0.37380615, 0.37381908, 0.37379363,\n       0.3737743 , 0.37372437, 0.373667  , 0.37360913, 0.37356   ,\n       0.37350464, 0.37346494, 0.3734205 , 0.37340015, 0.3733768 ,\n       0.37336865, 0.37338787, 0.37337714, 0.3733728 , 0.3733684 ,\n       0.37334302, 0.3733219 , 0.373305  , 0.37330747, 0.37328252,\n       0.37327322, 0.3732722 , 0.37325963, 0.37325186, 0.3732791 ,\n       0.373265  , 0.37323907, 0.3732558 , 0.3732603 , 0.3732602 ,\n       0.3732321 , 0.37320167, 0.3731846 , 0.373169  , 0.3731685 ,\n       0.37317845, 0.37318987, 0.37318838, 0.37316677, 0.3731785 ,\n       0.37318277, 0.3731888 , 0.3731965 , 0.37319866, 0.37322652,\n       0.37326434, 0.37328872, 0.37331942, 0.37333864, 0.37335894,\n       0.37336758, 0.3733577 , 0.37333485, 0.37332487, 0.37331012,\n       0.37330464, 0.3733145 , 0.37331128, 0.37332305, 0.37332565,\n       0.37335372, 0.37341285, 0.3734623 , 0.37348607, 0.37351793,\n       0.37353995, 0.3735471 , 0.37357688, 0.37358502, 0.3735675 ,\n       0.37357387, 0.3735734 , 0.37357736, 0.37360388, 0.3735848 ,\n       0.37357986, 0.37356758, 0.373571  , 0.37357295, 0.37354097,\n       0.37352073, 0.3735145 , 0.3735273 , 0.3735392 , 0.373546  ,\n       0.37353608, 0.373546  , 0.37355787, 0.3735646 , 0.37358436,\n       0.3735956 , 0.37358037, 0.3735681 , 0.37357387, 0.37357122,\n       0.373566  , 0.37352958, 0.37348136, 0.37346286, 0.37344918,\n       0.37342852, 0.37341172, 0.37340894, 0.37341437, 0.3734402 ,\n       0.37345913, 0.37348193, 0.37350458, 0.37352565, 0.37355408,\n       0.3736044 , 0.37365225, 0.373686  , 0.3737213 , 0.37376815,\n       0.37382257, 0.37386394, 0.37391767, 0.37397164, 0.37404096,\n       0.374103  , 0.37418318, 0.37424994, 0.37430936, 0.37434885,\n       0.37439328, 0.37444445, 0.37452146, 0.37458095, 0.37464836,\n       0.3747064 , 0.37481716, 0.37492353, 0.37501866, 0.37509003,\n       0.37519312, 0.37530258, 0.37540722, 0.37550366, 0.37558997,\n       0.37567165, 0.3757241 , 0.37578127, 0.37586102, 0.37590945,\n       0.3759549 , 0.3760203 , 0.37610075, 0.37620947, 0.3763068 ,\n       0.37640947, 0.37652397, 0.3773219 , 0.37807247, 0.37831542,\n       0.3782136 , 0.3779142 , 0.3775579 , 0.37725225, 0.37702382,\n       0.37690067, 0.3768821 , 0.37697896, 0.37714633, 0.37735397,\n       0.37757745, 0.3777722 , 0.37793598, 0.37806627, 0.3781677 ,\n       0.37823507, 0.37830332, 0.3783661 , 0.37844363, 0.37852183,\n       0.37861177, 0.37870547, 0.37878656, 0.37886393, 0.37893584,\n       0.37900904, 0.3790802 , 0.37912706, 0.37917778, 0.37925076,\n       0.37932804, 0.3793947 , 0.37945607, 0.37954354, 0.37965757,\n       0.3797549 , 0.37985665, 0.37994686, 0.38004744, 0.38011056,\n       0.38016808, 0.38021386, 0.3802631 , 0.38032514, 0.38037422,\n       0.38042936, 0.3805117 , 0.38060814, 0.38070738, 0.38078964,\n       0.38089296, 0.3810123 , 0.38111517, 0.38121337, 0.38127795,\n       0.3813496 , 0.3813501 , 0.3822146 , 0.38309777, 0.3839829 ,\n       0.3849432 , 0.3859325 , 0.38690647, 0.38783756, 0.38870135,\n       0.38962552, 0.39053774, 0.39144745, 0.39231834, 0.39317074,\n       0.39401707, 0.39486143, 0.39571667, 0.39655143, 0.39739063,\n       0.39823905, 0.39906982, 0.39924634, 0.39963782, 0.3996684 ],\n      dtype=float32)",
       "test_name": "'Zx1'"
      },
      "text/html": [
       "<pre>DataContainer({\n",
       "  \"test_name\": \"'Zx1'\",\n",
       "  \"strains\": \"array([0.00000e+00, 4.00000e-05, 1.10000e-04, 5.00000e-04, 9.20000e-04,\\n       1.46000e-03, 1.98000e-03, 2.45000e-03, 2.80000e-03, 2.97000e-03,\\n       3.14000e-03, 3.56000e-03, 3.93000e-03, 4.34000e-03, 4.72000e-03,\\n       5.20000e-03, 5.60000e-03, 6.03000e-03, 6.47000e-03, 6.83000e-03,\\n       7.31000e-03, 7.73000e-03, 8.15000e-03, 8.59000e-03, 9.00000e-03,\\n       9.43000e-03, 9.87000e-03, 1.03200e-02, 1.08000e-02, 1.12800e-02,\\n       1.17500e-02, 1.21800e-02, 1.27200e-02, 1.31900e-02, 1.36400e-02,\\n       1.41300e-02, 1.46000e-02, 1.50700e-02, 1.55200e-02, 1.60000e-02,\\n       1.64500e-02, 1.69100e-02, 1.73600e-02, 1.78800e-02, 1.83200e-02,\\n       1.87600e-02, 1.92200e-02, 1.96800e-02, 2.01600e-02, 2.06800e-02,\\n       2.11700e-02, 2.16700e-02, 2.21000e-02, 2.25200e-02, 2.30200e-02,\\n       2.34600e-02, 2.38900e-02, 2.43900e-02, 2.48900e-02, 2.53600e-02,\\n       2.57800e-02, 2.62400e-02, 2.66800e-02, 2.71400e-02, 2.76000e-02,\\n       2.80200e-02, 2.84600e-02, 2.88700e-02, 2.92900e-02, 2.97900e-02,\\n       3.02600e-02, 3.07200e-02, 3.12100e-02, 3.17000e-02, 3.21400e-02,\\n       3.25700e-02, 3.30100e-02, 3.34600e-02, 3.38900e-02, 3.42900e-02,\\n       3.47400e-02, 3.51800e-02, 3.56100e-02, 3.60700e-02, 3.65000e-02,\\n       3.69400e-02, 3.73800e-02, 3.78100e-02, 3.82700e-02, 3.87300e-02,\\n       3.91800e-02, 3.96800e-02, 4.01500e-02, 4.06100e-02, 4.10800e-02,\\n       4.15200e-02, 4.19500e-02, 4.24100e-02, 4.28600e-02, 4.33200e-02,\\n       4.37300e-02, 4.41800e-02, 4.46400e-02, 4.50700e-02, 4.55100e-02,\\n       4.59400e-02, 4.63800e-02, 4.68200e-02, 4.72600e-02, 4.76800e-02,\\n       4.80900e-02, 4.85500e-02, 4.89800e-02, 4.94100e-02, 4.98600e-02,\\n       5.02700e-02, 5.06800e-02, 5.11400e-02, 5.16300e-02, 5.20800e-02,\\n       5.25100e-02, 5.29500e-02, 5.34200e-02, 5.39200e-02, 5.43600e-02,\\n       5.47900e-02, 5.52300e-02, 5.56700e-02, 5.60600e-02, 5.65000e-02,\\n       5.69700e-02, 5.74200e-02, 5.78600e-02, 5.83400e-02, 5.87900e-02,\\n       5.91900e-02, 5.96300e-02, 6.01100e-02, 6.05700e-02, 6.10400e-02,\\n       6.14900e-02, 6.19600e-02, 6.23700e-02, 6.28300e-02, 6.32900e-02,\\n       6.37600e-02, 6.42100e-02, 6.46900e-02, 6.51800e-02, 6.56400e-02,\\n       6.60900e-02, 6.65800e-02, 6.70500e-02, 6.74800e-02, 6.79100e-02,\\n       6.84100e-02, 6.88900e-02, 6.93500e-02, 6.97900e-02, 7.02500e-02,\\n       7.06700e-02, 7.11500e-02, 7.16400e-02, 7.21000e-02, 7.25700e-02,\\n       7.30300e-02, 7.35000e-02, 7.39500e-02, 7.44100e-02, 7.48900e-02,\\n       7.53500e-02, 7.57800e-02, 7.62500e-02, 7.66800e-02, 7.71500e-02,\\n       7.76300e-02, 7.80900e-02, 7.85700e-02, 7.90300e-02, 7.94600e-02,\\n       7.99000e-02, 8.04200e-02, 8.09200e-02, 8.13500e-02, 8.18500e-02,\\n       8.23000e-02, 8.28000e-02, 8.32900e-02, 8.37800e-02, 8.42300e-02,\\n       8.46900e-02, 8.51900e-02, 8.56100e-02, 8.60600e-02, 8.65500e-02,\\n       8.70400e-02, 8.75200e-02, 8.79400e-02, 8.83600e-02, 8.87900e-02,\\n       8.92500e-02, 8.96900e-02, 9.01700e-02, 9.06200e-02, 9.10900e-02,\\n       9.15300e-02, 9.19600e-02, 9.24500e-02, 9.29300e-02, 9.33800e-02,\\n       9.39100e-02, 9.43900e-02, 9.48300e-02, 9.52800e-02, 9.57200e-02,\\n       9.61400e-02, 9.65800e-02, 9.70300e-02, 9.75400e-02, 9.79800e-02,\\n       9.84400e-02, 9.88800e-02, 9.93300e-02, 9.97900e-02, 1.00270e-01,\\n       1.00730e-01, 1.01190e-01, 1.01670e-01, 1.02160e-01, 1.02620e-01,\\n       1.03090e-01, 1.03550e-01, 1.03990e-01, 1.04490e-01, 1.04960e-01,\\n       1.05420e-01, 1.05890e-01, 1.06340e-01, 1.06800e-01, 1.07290e-01,\\n       1.07760e-01, 1.08230e-01, 1.08690e-01, 1.09160e-01, 1.09610e-01,\\n       1.10090e-01, 1.10580e-01, 1.11100e-01, 1.11560e-01, 1.12010e-01,\\n       1.12510e-01, 1.13050e-01, 1.13550e-01, 1.14010e-01, 1.14460e-01,\\n       1.14940e-01, 1.15460e-01, 1.15940e-01, 1.16420e-01, 1.16920e-01,\\n       1.17470e-01, 1.17950e-01, 1.18460e-01, 1.18960e-01, 1.19440e-01,\\n       1.19900e-01, 1.20420e-01, 1.20990e-01, 1.21520e-01, 1.22070e-01,\\n       1.22630e-01, 1.23180e-01, 1.23730e-01, 1.24290e-01, 1.24830e-01,\\n       1.25380e-01, 1.25930e-01, 1.26470e-01, 1.27000e-01, 1.27500e-01,\\n       1.27970e-01, 1.28530e-01, 1.29080e-01, 1.29630e-01, 1.30190e-01,\\n       1.30770e-01, 1.31340e-01, 1.31860e-01, 1.32450e-01, 1.33040e-01,\\n       1.33670e-01, 1.34250e-01, 1.34870e-01, 1.35460e-01, 1.36040e-01,\\n       1.36610e-01, 1.37190e-01, 1.37740e-01, 1.38320e-01, 1.38920e-01,\\n       1.39500e-01, 1.40060e-01, 1.40620e-01, 1.41200e-01, 1.41790e-01,\\n       1.42370e-01, 1.42980e-01, 1.43620e-01, 1.44270e-01, 1.44870e-01,\\n       1.45490e-01, 1.46120e-01, 1.46730e-01, 1.47360e-01, 1.48010e-01,\\n       1.48620e-01, 1.49230e-01, 1.49850e-01, 1.50510e-01, 1.51160e-01,\\n       1.51820e-01, 1.52530e-01, 1.53220e-01, 1.53880e-01, 1.54580e-01,\\n       1.55320e-01, 1.56020e-01, 1.56700e-01, 1.57350e-01, 1.58050e-01,\\n       1.58740e-01, 1.59430e-01, 1.60150e-01, 1.60870e-01, 1.61590e-01,\\n       1.62360e-01, 1.63090e-01, 1.63820e-01, 1.64630e-01, 1.65390e-01,\\n       1.66180e-01, 1.66970e-01, 1.67720e-01, 1.68480e-01, 1.69220e-01,\\n       1.70010e-01, 1.70800e-01, 1.71550e-01, 1.72360e-01, 1.73130e-01,\\n       1.73960e-01, 1.74800e-01, 1.75710e-01, 1.76620e-01, 1.77480e-01,\\n       1.78400e-01, 1.79320e-01, 1.80220e-01, 1.81080e-01, 1.81960e-01,\\n       1.82860e-01, 1.83760e-01, 1.84780e-01, 1.85790e-01, 1.86780e-01,\\n       1.87770e-01, 1.88750e-01, 1.89830e-01, 1.90880e-01, 1.91950e-01,\\n       1.93000e-01, 1.94030e-01, 1.95180e-01, 1.96400e-01, 1.97500e-01,\\n       1.98610e-01, 1.99770e-01, 2.00990e-01, 2.02220e-01, 2.03410e-01,\\n       2.04600e-01, 2.05970e-01, 2.07270e-01, 2.08520e-01, 2.09790e-01,\\n       2.11160e-01, 2.12580e-01, 2.14000e-01, 2.15520e-01, 2.17060e-01,\\n       2.18510e-01, 2.20070e-01, 2.21640e-01, 2.23260e-01, 2.24880e-01,\\n       2.26680e-01, 2.28480e-01, 2.30230e-01, 2.32110e-01, 2.33920e-01,\\n       2.35800e-01, 2.37930e-01, 2.39940e-01, 2.42030e-01, 2.44260e-01,\\n       2.46610e-01, 2.48920e-01, 2.51220e-01, 2.53610e-01, 2.56240e-01,\\n       2.59090e-01, 2.61790e-01, 2.64540e-01, 2.67460e-01, 2.70440e-01,\\n       2.73310e-01, 2.76120e-01, 2.78990e-01, 2.81760e-01, 2.84530e-01,\\n       2.87260e-01, 2.90030e-01, 2.92710e-01, 2.95360e-01, 2.98070e-01,\\n       3.00850e-01, 3.03390e-01, 3.06040e-01, 3.08690e-01, 3.11400e-01,\\n       3.13960e-01, 3.16530e-01, 3.19110e-01, 3.21760e-01, 3.24500e-01,\\n       3.27150e-01, 3.29790e-01, 3.32430e-01, 3.35010e-01, 3.37610e-01,\\n       3.40250e-01, 3.42830e-01, 3.45310e-01, 3.47820e-01, 3.50430e-01,\\n       3.52990e-01, 3.55540e-01, 3.58100e-01, 3.60700e-01, 3.63360e-01,\\n       3.65930e-01, 3.68560e-01, 3.71160e-01, 3.73670e-01, 3.76170e-01,\\n       3.78670e-01, 3.81250e-01, 3.83760e-01, 3.86280e-01, 3.88780e-01,\\n       3.91240e-01, 3.93730e-01, 3.96220e-01, 3.98660e-01, 4.01210e-01,\\n       4.03820e-01, 4.06350e-01, 4.08900e-01, 4.11420e-01, 4.13950e-01,\\n       4.16520e-01, 4.19020e-01, 4.21520e-01, 4.24080e-01, 4.26540e-01,\\n       4.29000e-01, 4.31550e-01, 4.34160e-01, 4.36670e-01, 4.39070e-01,\\n       4.41510e-01, 4.44080e-01, 4.46600e-01, 4.49150e-01, 4.51660e-01,\\n       4.54290e-01, 4.56770e-01, 4.59260e-01, 4.57570e-01, 4.61120e-01,\\n       4.64870e-01, 4.68310e-01, 4.71610e-01, 4.74690e-01, 4.77530e-01,\\n       4.80140e-01, 4.82570e-01, 4.84950e-01, 4.87320e-01, 4.89540e-01,\\n       4.91780e-01, 4.94120e-01, 4.96580e-01, 4.98900e-01, 5.01370e-01,\\n       5.03900e-01, 5.06460e-01, 5.08990e-01, 5.11510e-01, 5.14060e-01,\\n       5.16620e-01, 5.19070e-01, 5.21430e-01, 5.23800e-01, 5.26300e-01,\\n       5.28760e-01, 5.31200e-01, 5.33560e-01, 5.36040e-01, 5.38530e-01,\\n       5.41020e-01, 5.43500e-01, 5.46020e-01, 5.48490e-01, 5.50960e-01,\\n       5.53500e-01, 5.56090e-01, 5.58750e-01, 5.61360e-01, 5.63960e-01,\\n       5.66650e-01, 5.69250e-01, 5.71810e-01, 5.74330e-01, 5.76810e-01,\\n       5.79330e-01, 5.81660e-01, 5.84100e-01, 5.86620e-01, 5.89140e-01,\\n       5.91740e-01, 5.94220e-01, 5.96760e-01, 5.99330e-01, 6.01760e-01,\\n       6.04190e-01, 6.05530e-01, 6.06640e-01, 6.09990e-01, 6.13330e-01,\\n       6.16480e-01, 6.19640e-01, 6.22620e-01, 6.25270e-01, 6.27760e-01,\\n       6.30110e-01, 6.32440e-01, 6.34740e-01, 6.37070e-01, 6.39430e-01,\\n       6.41840e-01, 6.44160e-01, 6.46520e-01, 6.49020e-01, 6.51520e-01,\\n       6.54010e-01, 6.56480e-01, 6.58990e-01, 6.61560e-01, 6.63960e-01,\\n       6.66510e-01, 6.69030e-01, 6.71570e-01, 6.74110e-01, 6.76630e-01,\\n       6.79240e-01, 6.81880e-01, 6.84460e-01, 6.87010e-01, 6.89630e-01,\\n       6.92150e-01, 6.94650e-01, 6.97020e-01, 6.99530e-01, 7.02020e-01,\\n       7.04460e-01, 7.06910e-01, 7.09360e-01, 7.11830e-01, 7.14330e-01,\\n       7.16860e-01, 7.18710e-01, 7.19420e-01, 7.22600e-01, 7.25880e-01,\\n       7.29050e-01, 7.32100e-01, 7.35010e-01, 7.37620e-01, 7.40140e-01,\\n       7.42580e-01, 7.44930e-01, 7.47330e-01, 7.49710e-01, 7.52120e-01,\\n       7.54550e-01, 7.57040e-01, 7.59480e-01, 7.62000e-01, 7.64560e-01,\\n       7.67050e-01, 7.69490e-01, 7.71980e-01, 7.74490e-01, 7.77050e-01,\\n       7.79560e-01, 7.82120e-01, 7.84640e-01, 7.87130e-01, 7.89690e-01,\\n       7.92160e-01, 7.94710e-01, 7.97250e-01, 7.99730e-01, 8.02180e-01,\\n       8.04680e-01, 8.07180e-01, 8.09690e-01, 8.12260e-01, 8.14820e-01,\\n       8.17440e-01, 8.20010e-01, 8.22630e-01, 8.25240e-01, 8.27760e-01,\\n       8.30270e-01, 8.32790e-01, 8.35290e-01, 8.37790e-01, 8.40240e-01,\\n       8.42670e-01, 8.45170e-01, 8.47610e-01, 8.50120e-01, 8.52560e-01,\\n       8.55110e-01, 8.57590e-01, 8.60150e-01, 8.62770e-01, 8.65360e-01,\\n       8.68000e-01, 8.70640e-01, 8.73280e-01, 8.75890e-01, 8.78450e-01,\\n       8.80950e-01, 8.83370e-01, 8.85840e-01, 8.88330e-01, 8.90820e-01,\\n       8.93200e-01, 8.95690e-01, 8.98120e-01, 9.00640e-01, 9.03190e-01,\\n       9.05720e-01, 9.08280e-01, 9.10800e-01, 9.13320e-01, 9.15900e-01,\\n       9.18420e-01, 9.20940e-01, 9.23360e-01, 9.25810e-01, 9.28160e-01,\\n       9.30500e-01, 9.32820e-01, 9.35110e-01, 9.37490e-01, 9.39820e-01,\\n       9.42270e-01, 9.44710e-01, 9.47270e-01, 9.49740e-01, 9.52280e-01,\\n       9.54760e-01, 9.57340e-01, 9.59830e-01, 9.62300e-01, 9.64790e-01,\\n       9.67320e-01, 9.69840e-01, 9.72340e-01, 9.74820e-01, 9.77300e-01,\\n       9.79790e-01, 9.82310e-01, 9.84820e-01, 9.87350e-01, 9.89720e-01,\\n       9.92180e-01, 9.94720e-01, 9.97220e-01, 9.99790e-01, 1.00229e+00,\\n       1.00480e+00, 1.00737e+00, 1.01000e+00, 1.01257e+00, 1.01521e+00,\\n       1.01781e+00, 1.02045e+00, 1.02304e+00, 1.02556e+00, 1.02809e+00,\\n       1.03061e+00, 1.03306e+00, 1.03556e+00, 1.03802e+00, 1.04047e+00,\\n       1.04287e+00, 1.04539e+00, 1.04784e+00, 1.05035e+00, 1.05285e+00,\\n       1.05533e+00, 1.05783e+00, 1.06026e+00, 1.06275e+00, 1.06527e+00,\\n       1.06776e+00, 1.07028e+00, 1.07277e+00, 1.07518e+00, 1.07781e+00,\\n       1.08035e+00, 1.08283e+00, 1.08529e+00, 1.08781e+00, 1.09041e+00,\\n       1.09292e+00, 1.09540e+00, 1.09783e+00, 1.10033e+00, 1.10275e+00,\\n       1.10527e+00, 1.10779e+00, 1.11024e+00, 1.11271e+00, 1.11523e+00,\\n       1.11769e+00, 1.12024e+00, 1.12275e+00, 1.12523e+00, 1.12770e+00,\\n       1.13020e+00, 1.13277e+00, 1.13530e+00, 1.13783e+00, 1.14037e+00,\\n       1.14291e+00, 1.14549e+00, 1.14801e+00, 1.15053e+00, 1.15297e+00,\\n       1.15544e+00, 1.15792e+00, 1.16031e+00, 1.16290e+00, 1.16524e+00,\\n       1.16769e+00, 1.17015e+00, 1.17268e+00, 1.17520e+00, 1.17767e+00,\\n       1.18025e+00, 1.18267e+00, 1.18525e+00, 1.18774e+00, 1.19023e+00,\\n       1.19275e+00, 1.19524e+00, 1.19769e+00, 1.20027e+00, 1.20275e+00,\\n       1.20531e+00, 1.20770e+00, 1.21027e+00, 1.21279e+00, 1.21524e+00,\\n       1.21770e+00, 1.22011e+00, 1.22260e+00, 1.22513e+00, 1.22766e+00,\\n       1.23009e+00, 1.23264e+00, 1.23514e+00, 1.23762e+00, 1.24014e+00,\\n       1.24284e+00, 1.24536e+00, 1.24790e+00, 1.25044e+00, 1.25305e+00,\\n       1.25567e+00, 1.25821e+00, 1.26072e+00, 1.26322e+00, 1.26576e+00,\\n       1.26820e+00, 1.27070e+00, 1.27315e+00, 1.27558e+00, 1.27800e+00,\\n       1.28052e+00, 1.28304e+00, 1.28552e+00, 1.28789e+00, 1.29034e+00,\\n       1.29274e+00, 1.29533e+00, 1.29785e+00, 1.30027e+00, 1.30269e+00,\\n       1.30518e+00, 1.30768e+00, 1.31019e+00, 1.31259e+00, 1.31511e+00,\\n       1.31760e+00, 1.32009e+00, 1.32257e+00, 1.32515e+00, 1.32760e+00,\\n       1.33004e+00, 1.33250e+00, 1.33495e+00, 1.33744e+00, 1.33990e+00,\\n       1.34227e+00, 1.34476e+00, 1.34725e+00, 1.34976e+00, 1.35225e+00,\\n       1.35470e+00, 1.35731e+00, 1.35984e+00, 1.36240e+00, 1.36498e+00,\\n       1.36759e+00, 1.37013e+00, 1.37262e+00, 1.37512e+00, 1.37767e+00,\\n       1.38015e+00, 1.38254e+00, 1.38493e+00, 1.38739e+00, 1.38991e+00,\\n       1.39237e+00, 1.39463e+00, 1.39326e+00, 1.39719e+00, 1.40130e+00,\\n       1.40515e+00, 1.40851e+00, 1.41137e+00, 1.41381e+00, 1.41612e+00,\\n       1.41830e+00, 1.42038e+00, 1.42253e+00, 1.42465e+00, 1.42693e+00,\\n       1.42939e+00, 1.43191e+00, 1.43442e+00, 1.43692e+00, 1.43953e+00,\\n       1.44203e+00, 1.44461e+00, 1.44716e+00, 1.44963e+00, 1.45213e+00,\\n       1.45466e+00, 1.45715e+00, 1.45971e+00, 1.46227e+00, 1.46470e+00,\\n       1.46720e+00, 1.46974e+00, 1.47230e+00, 1.47471e+00, 1.47712e+00,\\n       1.47957e+00, 1.48209e+00, 1.48449e+00, 1.48693e+00, 1.48935e+00,\\n       1.49187e+00, 1.49437e+00, 1.49684e+00, 1.49944e+00, 1.50204e+00,\\n       1.50447e+00, 1.50694e+00, 1.50935e+00, 1.51194e+00, 1.51435e+00,\\n       1.51672e+00, 1.51909e+00, 1.52158e+00, 1.52402e+00, 1.52652e+00,\\n       1.52902e+00, 1.53155e+00, 1.53410e+00, 1.53660e+00, 1.53919e+00,\\n       1.54141e+00, 1.54146e+00, 1.54393e+00, 1.54485e+00, 1.54584e+00,\\n       1.54707e+00, 1.54860e+00, 1.55044e+00, 1.55267e+00, 1.55528e+00,\\n       1.55895e+00, 1.56404e+00, 1.57185e+00, 1.58513e+00, 1.61547e+00,\\n       1.65792e+00, 1.69469e+00, 1.72855e+00, 1.75996e+00, 1.78920e+00,\\n       1.81799e+00, 1.84623e+00, 1.85239e+00, 1.86566e+00, 1.86667e+00],\\n      dtype=float32)\",\n",
       "  \"stresses\": \"array([0.00213988, 0.00219867, 0.00239668, 0.00305166, 0.00388532,\\n       0.00472512, 0.00555448, 0.00640075, 0.00723524, 0.00787504,\\n       0.00840232, 0.00897844, 0.0097039 , 0.01053391, 0.01137007,\\n       0.01220995, 0.01305216, 0.01390713, 0.01476078, 0.01560672,\\n       0.01646882, 0.01730315, 0.01814992, 0.0189825 , 0.01983881,\\n       0.02069047, 0.02153706, 0.02240133, 0.0232568 , 0.02410224,\\n       0.02495697, 0.02579693, 0.0266539 , 0.02748649, 0.02834942,\\n       0.02922554, 0.03010597, 0.03099005, 0.03183955, 0.03270514,\\n       0.03358822, 0.03443383, 0.03530663, 0.03619594, 0.03702537,\\n       0.0378636 , 0.03871036, 0.03955506, 0.04041758, 0.04129428,\\n       0.04217521, 0.04305945, 0.04388905, 0.04472421, 0.04557545,\\n       0.04642869, 0.0472981 , 0.04817728, 0.04906161, 0.0499456 ,\\n       0.05077653, 0.05167695, 0.05252156, 0.05336061, 0.05420664,\\n       0.05505456, 0.05591252, 0.05677206, 0.0576364 , 0.05850398,\\n       0.05937512, 0.06024635, 0.06112098, 0.06199942, 0.06288516,\\n       0.06377628, 0.06467371, 0.06558126, 0.06641791, 0.06725854,\\n       0.0681015 , 0.06895175, 0.06979585, 0.07064693, 0.07149345,\\n       0.07234469, 0.07321078, 0.07408193, 0.07495564, 0.07583822,\\n       0.07671177, 0.07758151, 0.07845846, 0.07933458, 0.08021384,\\n       0.08109105, 0.08196311, 0.08284336, 0.08371675, 0.08459643,\\n       0.0854855 , 0.08636998, 0.08724958, 0.08812504, 0.08900199,\\n       0.08987878, 0.09075829, 0.09163765, 0.09251485, 0.09338392,\\n       0.09424403, 0.09509926, 0.09594751, 0.0968102 , 0.09767247,\\n       0.0985267 , 0.0993728 , 0.10021401, 0.10105597, 0.10189511,\\n       0.10274561, 0.10359362, 0.10443649, 0.10534585, 0.10618956,\\n       0.10704163, 0.10791202, 0.1087869 , 0.10967264, 0.11055522,\\n       0.11142198, 0.11229428, 0.11317462, 0.11406824, 0.11496451,\\n       0.11585033, 0.116734  , 0.11761078, 0.1184796 , 0.11935887,\\n       0.12024461, 0.1211364 , 0.12202065, 0.12291235, 0.12380149,\\n       0.12470182, 0.12562107, 0.12653235, 0.12743714, 0.1283374 ,\\n       0.1292374 , 0.13015299, 0.13107273, 0.13190979, 0.13274866,\\n       0.13366643, 0.13457148, 0.13547081, 0.13637348, 0.13728872,\\n       0.13811949, 0.13903384, 0.1399403 , 0.14084636, 0.14175308,\\n       0.14266543, 0.14358151, 0.14449137, 0.14538126, 0.14625822,\\n       0.14713284, 0.14801492, 0.14892015, 0.14983176, 0.15074818,\\n       0.15165788, 0.15255895, 0.15346509, 0.1543767 , 0.15520903,\\n       0.1560399 , 0.15694544, 0.15785283, 0.15875837, 0.15967488,\\n       0.16050415, 0.16141823, 0.16232745, 0.16324006, 0.16414686,\\n       0.1650558 , 0.1659757 , 0.16680671, 0.16764104, 0.16856144,\\n       0.16947952, 0.17039892, 0.171232  , 0.17207472, 0.17292769,\\n       0.17377512, 0.17461236, 0.1755316 , 0.17636676, 0.17720564,\\n       0.17805614, 0.17890333, 0.17975001, 0.18059652, 0.1814341 ,\\n       0.18235531, 0.1831869 , 0.18402594, 0.18487322, 0.18571867,\\n       0.18656376, 0.1874    , 0.18823656, 0.18915273, 0.18999097,\\n       0.19083905, 0.19169006, 0.19253598, 0.1933869 , 0.19423857,\\n       0.19508722, 0.1959301 , 0.19677031, 0.1976205 , 0.19846576,\\n       0.19930366, 0.20013765, 0.2009782 , 0.20182636, 0.20267388,\\n       0.20352712, 0.20438723, 0.20523632, 0.2060713 , 0.20690995,\\n       0.2077452 , 0.20858043, 0.20942058, 0.2102578 , 0.21109653,\\n       0.2119325 , 0.21276642, 0.21368773, 0.21452537, 0.21536742,\\n       0.21621153, 0.21706194, 0.21790099, 0.21873897, 0.21957828,\\n       0.22041708, 0.22126369, 0.22211784, 0.22296982, 0.22380854,\\n       0.22472662, 0.2255573 , 0.2264782 , 0.22730888, 0.2281428 ,\\n       0.22897995, 0.22981542, 0.23072231, 0.23162405, 0.23253159,\\n       0.23342729, 0.23432662, 0.23523682, 0.23613733, 0.23703773,\\n       0.2379422 , 0.23884718, 0.23976086, 0.24059363, 0.24142613,\\n       0.24225664, 0.24316518, 0.24406011, 0.24495953, 0.24586153,\\n       0.24676932, 0.24768691, 0.24851659, 0.24941882, 0.25030622,\\n       0.25118932, 0.25207403, 0.25296733, 0.2538598 , 0.25474435,\\n       0.25562903, 0.25650182, 0.25737256, 0.2582431 , 0.25911757,\\n       0.25999212, 0.26087263, 0.26173764, 0.2625932 , 0.2634506 ,\\n       0.2643098 , 0.26518092, 0.26606062, 0.2669354 , 0.26780507,\\n       0.26865265, 0.26950222, 0.27034578, 0.2711841 , 0.27202487,\\n       0.2728749 , 0.27370772, 0.27453724, 0.27543184, 0.27632794,\\n       0.27722394, 0.27812588, 0.27901575, 0.27991003, 0.2807929 ,\\n       0.2816568 , 0.28251666, 0.2833873 , 0.2842708 , 0.2851554 ,\\n       0.2860312 , 0.28690225, 0.2877587 , 0.28861776, 0.28948575,\\n       0.29035473, 0.29122043, 0.29209045, 0.29294145, 0.2937791 ,\\n       0.2946544 , 0.29550564, 0.29636484, 0.29723734, 0.29809707,\\n       0.2989523 , 0.29978707, 0.30062544, 0.30147007, 0.30231717,\\n       0.30316442, 0.30399942, 0.30488393, 0.30576766, 0.30663732,\\n       0.30750093, 0.3083574 , 0.3092175 , 0.3100909 , 0.31095392,\\n       0.31179348, 0.31262806, 0.31350914, 0.31439123, 0.31525755,\\n       0.31611246, 0.31695083, 0.3178349 , 0.31870413, 0.31957123,\\n       0.3204308 , 0.32127827, 0.3221601 , 0.32300738, 0.32383916,\\n       0.32467124, 0.32554445, 0.32639876, 0.3272727 , 0.32812822,\\n       0.32896537, 0.32983187, 0.3306752 , 0.33150598, 0.33234295,\\n       0.33319935, 0.33406377, 0.33491045, 0.33575863, 0.33660787,\\n       0.33743772, 0.3382681 , 0.33911967, 0.33998182, 0.34082478,\\n       0.34166178, 0.34250134, 0.3433458 , 0.34418494, 0.34502223,\\n       0.34586036, 0.3467089 , 0.34755763, 0.34839228, 0.34922737,\\n       0.3500782 , 0.35092255, 0.35175422, 0.35258958, 0.35343698,\\n       0.35427496, 0.35511777, 0.35595548, 0.35679826, 0.35762313,\\n       0.3583902 , 0.359129  , 0.35982722, 0.36048466, 0.36112353,\\n       0.3617349 , 0.36233783, 0.36293325, 0.36352697, 0.36408368,\\n       0.36461806, 0.3651001 , 0.365585  , 0.36606792, 0.3665305 ,\\n       0.3669636 , 0.36738226, 0.36780697, 0.3682486 , 0.36865938,\\n       0.36906353, 0.3694346 , 0.36976403, 0.3700836 , 0.37039188,\\n       0.3706912 , 0.3709689 , 0.37126735, 0.37156105, 0.3718482 ,\\n       0.3721165 , 0.37239552, 0.3727154 , 0.3730307 , 0.3733171 ,\\n       0.3735653 , 0.37379536, 0.3739835 , 0.37416744, 0.37434286,\\n       0.37456724, 0.37477353, 0.37498018, 0.37516353, 0.37532938,\\n       0.37550116, 0.37565872, 0.37583584, 0.37604603, 0.37624562,\\n       0.37642646, 0.37658268, 0.37673002, 0.37687024, 0.37698847,\\n       0.37710068, 0.37720698, 0.3773175 , 0.37742007, 0.37751907,\\n       0.37762296, 0.37775183, 0.37784678, 0.37793556, 0.37801304,\\n       0.37811196, 0.37819198, 0.37829527, 0.37839296, 0.3785022 ,\\n       0.37859198, 0.37865898, 0.3787209 , 0.37902355, 0.37979594,\\n       0.38003585, 0.37995812, 0.37970805, 0.3793689 , 0.37902114,\\n       0.37870264, 0.3784242 , 0.37821293, 0.3780492 , 0.37794313,\\n       0.37787747, 0.37786242, 0.37787014, 0.37786868, 0.37789097,\\n       0.37789062, 0.37786576, 0.37781146, 0.3777577 , 0.37766868,\\n       0.37757164, 0.3774845 , 0.37740505, 0.37736517, 0.37735176,\\n       0.377333  , 0.3773331 , 0.37732753, 0.37736169, 0.37737805,\\n       0.3773796 , 0.37737083, 0.37735283, 0.37733832, 0.37734032,\\n       0.37736362, 0.37739155, 0.37742114, 0.37740546, 0.37736842,\\n       0.37731147, 0.3772175 , 0.37712577, 0.37701997, 0.37691632,\\n       0.37683383, 0.37676212, 0.37673748, 0.37672254, 0.37670946,\\n       0.37670174, 0.37664437, 0.37658432, 0.37652034, 0.37646446,\\n       0.37639874, 0.37639362, 0.3768904 , 0.37722555, 0.3772403 ,\\n       0.37707976, 0.37679702, 0.37645987, 0.3761116 , 0.37582737,\\n       0.37561518, 0.37548798, 0.37541276, 0.3753849 , 0.37539074,\\n       0.37540796, 0.3754409 , 0.37549016, 0.3755199 , 0.3755535 ,\\n       0.37556925, 0.37555754, 0.37554488, 0.37553018, 0.37549844,\\n       0.37547687, 0.37547073, 0.37546086, 0.3754674 , 0.37547988,\\n       0.3755024 , 0.37549528, 0.37546217, 0.3754201 , 0.3753671 ,\\n       0.3752986 , 0.37523234, 0.37517124, 0.37513053, 0.37507623,\\n       0.37504545, 0.37502122, 0.3750272 , 0.37504137, 0.3750587 ,\\n       0.37507537, 0.37507802, 0.37551144, 0.37585446, 0.3759126 ,\\n       0.37577304, 0.37554353, 0.37528318, 0.37503824, 0.37484708,\\n       0.37471217, 0.3746253 , 0.37458417, 0.3746039 , 0.37462023,\\n       0.3746607 , 0.3746874 , 0.37469628, 0.37472537, 0.37473816,\\n       0.37475598, 0.37476245, 0.37478808, 0.37480664, 0.3748186 ,\\n       0.3748248 , 0.37482595, 0.3748113 , 0.37480357, 0.37479943,\\n       0.37477216, 0.37474066, 0.3747128 , 0.3746845 , 0.37465903,\\n       0.37465847, 0.374682  , 0.37470257, 0.37472987, 0.37474793,\\n       0.3747704 , 0.37478003, 0.37478423, 0.3747563 , 0.37470788,\\n       0.37467188, 0.3746228 , 0.37458774, 0.37455538, 0.3745263 ,\\n       0.37450507, 0.37449437, 0.3744699 , 0.37447572, 0.37448394,\\n       0.37450814, 0.37452197, 0.37456253, 0.37459794, 0.37463018,\\n       0.3746548 , 0.37466303, 0.37463352, 0.37457752, 0.37449795,\\n       0.3744293 , 0.3743656 , 0.37432688, 0.37428242, 0.37424088,\\n       0.3742211 , 0.37421802, 0.37423417, 0.37424362, 0.37426367,\\n       0.37427637, 0.3742892 , 0.3742962 , 0.3742801 , 0.3742538 ,\\n       0.3742064 , 0.3741612 , 0.37409934, 0.37401924, 0.37393788,\\n       0.37387994, 0.3738472 , 0.37383273, 0.3738383 , 0.3738818 ,\\n       0.37393987, 0.3739893 , 0.37403417, 0.37405422, 0.37405288,\\n       0.37405175, 0.37403393, 0.37400964, 0.3739956 , 0.37398872,\\n       0.37397397, 0.3739541 , 0.37393945, 0.3739233 , 0.37391004,\\n       0.37388623, 0.37385365, 0.37381402, 0.3737863 , 0.37375084,\\n       0.37375233, 0.37376642, 0.3737695 , 0.37377307, 0.37377596,\\n       0.37379527, 0.37380713, 0.37380615, 0.37381908, 0.37379363,\\n       0.3737743 , 0.37372437, 0.373667  , 0.37360913, 0.37356   ,\\n       0.37350464, 0.37346494, 0.3734205 , 0.37340015, 0.3733768 ,\\n       0.37336865, 0.37338787, 0.37337714, 0.3733728 , 0.3733684 ,\\n       0.37334302, 0.3733219 , 0.373305  , 0.37330747, 0.37328252,\\n       0.37327322, 0.3732722 , 0.37325963, 0.37325186, 0.3732791 ,\\n       0.373265  , 0.37323907, 0.3732558 , 0.3732603 , 0.3732602 ,\\n       0.3732321 , 0.37320167, 0.3731846 , 0.373169  , 0.3731685 ,\\n       0.37317845, 0.37318987, 0.37318838, 0.37316677, 0.3731785 ,\\n       0.37318277, 0.3731888 , 0.3731965 , 0.37319866, 0.37322652,\\n       0.37326434, 0.37328872, 0.37331942, 0.37333864, 0.37335894,\\n       0.37336758, 0.3733577 , 0.37333485, 0.37332487, 0.37331012,\\n       0.37330464, 0.3733145 , 0.37331128, 0.37332305, 0.37332565,\\n       0.37335372, 0.37341285, 0.3734623 , 0.37348607, 0.37351793,\\n       0.37353995, 0.3735471 , 0.37357688, 0.37358502, 0.3735675 ,\\n       0.37357387, 0.3735734 , 0.37357736, 0.37360388, 0.3735848 ,\\n       0.37357986, 0.37356758, 0.373571  , 0.37357295, 0.37354097,\\n       0.37352073, 0.3735145 , 0.3735273 , 0.3735392 , 0.373546  ,\\n       0.37353608, 0.373546  , 0.37355787, 0.3735646 , 0.37358436,\\n       0.3735956 , 0.37358037, 0.3735681 , 0.37357387, 0.37357122,\\n       0.373566  , 0.37352958, 0.37348136, 0.37346286, 0.37344918,\\n       0.37342852, 0.37341172, 0.37340894, 0.37341437, 0.3734402 ,\\n       0.37345913, 0.37348193, 0.37350458, 0.37352565, 0.37355408,\\n       0.3736044 , 0.37365225, 0.373686  , 0.3737213 , 0.37376815,\\n       0.37382257, 0.37386394, 0.37391767, 0.37397164, 0.37404096,\\n       0.374103  , 0.37418318, 0.37424994, 0.37430936, 0.37434885,\\n       0.37439328, 0.37444445, 0.37452146, 0.37458095, 0.37464836,\\n       0.3747064 , 0.37481716, 0.37492353, 0.37501866, 0.37509003,\\n       0.37519312, 0.37530258, 0.37540722, 0.37550366, 0.37558997,\\n       0.37567165, 0.3757241 , 0.37578127, 0.37586102, 0.37590945,\\n       0.3759549 , 0.3760203 , 0.37610075, 0.37620947, 0.3763068 ,\\n       0.37640947, 0.37652397, 0.3773219 , 0.37807247, 0.37831542,\\n       0.3782136 , 0.3779142 , 0.3775579 , 0.37725225, 0.37702382,\\n       0.37690067, 0.3768821 , 0.37697896, 0.37714633, 0.37735397,\\n       0.37757745, 0.3777722 , 0.37793598, 0.37806627, 0.3781677 ,\\n       0.37823507, 0.37830332, 0.3783661 , 0.37844363, 0.37852183,\\n       0.37861177, 0.37870547, 0.37878656, 0.37886393, 0.37893584,\\n       0.37900904, 0.3790802 , 0.37912706, 0.37917778, 0.37925076,\\n       0.37932804, 0.3793947 , 0.37945607, 0.37954354, 0.37965757,\\n       0.3797549 , 0.37985665, 0.37994686, 0.38004744, 0.38011056,\\n       0.38016808, 0.38021386, 0.3802631 , 0.38032514, 0.38037422,\\n       0.38042936, 0.3805117 , 0.38060814, 0.38070738, 0.38078964,\\n       0.38089296, 0.3810123 , 0.38111517, 0.38121337, 0.38127795,\\n       0.3813496 , 0.3813501 , 0.3822146 , 0.38309777, 0.3839829 ,\\n       0.3849432 , 0.3859325 , 0.38690647, 0.38783756, 0.38870135,\\n       0.38962552, 0.39053774, 0.39144745, 0.39231834, 0.39317074,\\n       0.39401707, 0.39486143, 0.39571667, 0.39655143, 0.39739063,\\n       0.39823905, 0.39906982, 0.39924634, 0.39963782, 0.3996684 ],\\n      dtype=float32)\"\n",
       "})</pre>"
      ],
      "text/plain": [
       "DataContainer({'test_name': 'Zx1', 'strains': array([0.00000e+00, 4.00000e-05, 1.10000e-04, 5.00000e-04, 9.20000e-04,\n",
       "       1.46000e-03, 1.98000e-03, 2.45000e-03, 2.80000e-03, 2.97000e-03,\n",
       "       3.14000e-03, 3.56000e-03, 3.93000e-03, 4.34000e-03, 4.72000e-03,\n",
       "       5.20000e-03, 5.60000e-03, 6.03000e-03, 6.47000e-03, 6.83000e-03,\n",
       "       7.31000e-03, 7.73000e-03, 8.15000e-03, 8.59000e-03, 9.00000e-03,\n",
       "       9.43000e-03, 9.87000e-03, 1.03200e-02, 1.08000e-02, 1.12800e-02,\n",
       "       1.17500e-02, 1.21800e-02, 1.27200e-02, 1.31900e-02, 1.36400e-02,\n",
       "       1.41300e-02, 1.46000e-02, 1.50700e-02, 1.55200e-02, 1.60000e-02,\n",
       "       1.64500e-02, 1.69100e-02, 1.73600e-02, 1.78800e-02, 1.83200e-02,\n",
       "       1.87600e-02, 1.92200e-02, 1.96800e-02, 2.01600e-02, 2.06800e-02,\n",
       "       2.11700e-02, 2.16700e-02, 2.21000e-02, 2.25200e-02, 2.30200e-02,\n",
       "       2.34600e-02, 2.38900e-02, 2.43900e-02, 2.48900e-02, 2.53600e-02,\n",
       "       2.57800e-02, 2.62400e-02, 2.66800e-02, 2.71400e-02, 2.76000e-02,\n",
       "       2.80200e-02, 2.84600e-02, 2.88700e-02, 2.92900e-02, 2.97900e-02,\n",
       "       3.02600e-02, 3.07200e-02, 3.12100e-02, 3.17000e-02, 3.21400e-02,\n",
       "       3.25700e-02, 3.30100e-02, 3.34600e-02, 3.38900e-02, 3.42900e-02,\n",
       "       3.47400e-02, 3.51800e-02, 3.56100e-02, 3.60700e-02, 3.65000e-02,\n",
       "       3.69400e-02, 3.73800e-02, 3.78100e-02, 3.82700e-02, 3.87300e-02,\n",
       "       3.91800e-02, 3.96800e-02, 4.01500e-02, 4.06100e-02, 4.10800e-02,\n",
       "       4.15200e-02, 4.19500e-02, 4.24100e-02, 4.28600e-02, 4.33200e-02,\n",
       "       4.37300e-02, 4.41800e-02, 4.46400e-02, 4.50700e-02, 4.55100e-02,\n",
       "       4.59400e-02, 4.63800e-02, 4.68200e-02, 4.72600e-02, 4.76800e-02,\n",
       "       4.80900e-02, 4.85500e-02, 4.89800e-02, 4.94100e-02, 4.98600e-02,\n",
       "       5.02700e-02, 5.06800e-02, 5.11400e-02, 5.16300e-02, 5.20800e-02,\n",
       "       5.25100e-02, 5.29500e-02, 5.34200e-02, 5.39200e-02, 5.43600e-02,\n",
       "       5.47900e-02, 5.52300e-02, 5.56700e-02, 5.60600e-02, 5.65000e-02,\n",
       "       5.69700e-02, 5.74200e-02, 5.78600e-02, 5.83400e-02, 5.87900e-02,\n",
       "       5.91900e-02, 5.96300e-02, 6.01100e-02, 6.05700e-02, 6.10400e-02,\n",
       "       6.14900e-02, 6.19600e-02, 6.23700e-02, 6.28300e-02, 6.32900e-02,\n",
       "       6.37600e-02, 6.42100e-02, 6.46900e-02, 6.51800e-02, 6.56400e-02,\n",
       "       6.60900e-02, 6.65800e-02, 6.70500e-02, 6.74800e-02, 6.79100e-02,\n",
       "       6.84100e-02, 6.88900e-02, 6.93500e-02, 6.97900e-02, 7.02500e-02,\n",
       "       7.06700e-02, 7.11500e-02, 7.16400e-02, 7.21000e-02, 7.25700e-02,\n",
       "       7.30300e-02, 7.35000e-02, 7.39500e-02, 7.44100e-02, 7.48900e-02,\n",
       "       7.53500e-02, 7.57800e-02, 7.62500e-02, 7.66800e-02, 7.71500e-02,\n",
       "       7.76300e-02, 7.80900e-02, 7.85700e-02, 7.90300e-02, 7.94600e-02,\n",
       "       7.99000e-02, 8.04200e-02, 8.09200e-02, 8.13500e-02, 8.18500e-02,\n",
       "       8.23000e-02, 8.28000e-02, 8.32900e-02, 8.37800e-02, 8.42300e-02,\n",
       "       8.46900e-02, 8.51900e-02, 8.56100e-02, 8.60600e-02, 8.65500e-02,\n",
       "       8.70400e-02, 8.75200e-02, 8.79400e-02, 8.83600e-02, 8.87900e-02,\n",
       "       8.92500e-02, 8.96900e-02, 9.01700e-02, 9.06200e-02, 9.10900e-02,\n",
       "       9.15300e-02, 9.19600e-02, 9.24500e-02, 9.29300e-02, 9.33800e-02,\n",
       "       9.39100e-02, 9.43900e-02, 9.48300e-02, 9.52800e-02, 9.57200e-02,\n",
       "       9.61400e-02, 9.65800e-02, 9.70300e-02, 9.75400e-02, 9.79800e-02,\n",
       "       9.84400e-02, 9.88800e-02, 9.93300e-02, 9.97900e-02, 1.00270e-01,\n",
       "       1.00730e-01, 1.01190e-01, 1.01670e-01, 1.02160e-01, 1.02620e-01,\n",
       "       1.03090e-01, 1.03550e-01, 1.03990e-01, 1.04490e-01, 1.04960e-01,\n",
       "       1.05420e-01, 1.05890e-01, 1.06340e-01, 1.06800e-01, 1.07290e-01,\n",
       "       1.07760e-01, 1.08230e-01, 1.08690e-01, 1.09160e-01, 1.09610e-01,\n",
       "       1.10090e-01, 1.10580e-01, 1.11100e-01, 1.11560e-01, 1.12010e-01,\n",
       "       1.12510e-01, 1.13050e-01, 1.13550e-01, 1.14010e-01, 1.14460e-01,\n",
       "       1.14940e-01, 1.15460e-01, 1.15940e-01, 1.16420e-01, 1.16920e-01,\n",
       "       1.17470e-01, 1.17950e-01, 1.18460e-01, 1.18960e-01, 1.19440e-01,\n",
       "       1.19900e-01, 1.20420e-01, 1.20990e-01, 1.21520e-01, 1.22070e-01,\n",
       "       1.22630e-01, 1.23180e-01, 1.23730e-01, 1.24290e-01, 1.24830e-01,\n",
       "       1.25380e-01, 1.25930e-01, 1.26470e-01, 1.27000e-01, 1.27500e-01,\n",
       "       1.27970e-01, 1.28530e-01, 1.29080e-01, 1.29630e-01, 1.30190e-01,\n",
       "       1.30770e-01, 1.31340e-01, 1.31860e-01, 1.32450e-01, 1.33040e-01,\n",
       "       1.33670e-01, 1.34250e-01, 1.34870e-01, 1.35460e-01, 1.36040e-01,\n",
       "       1.36610e-01, 1.37190e-01, 1.37740e-01, 1.38320e-01, 1.38920e-01,\n",
       "       1.39500e-01, 1.40060e-01, 1.40620e-01, 1.41200e-01, 1.41790e-01,\n",
       "       1.42370e-01, 1.42980e-01, 1.43620e-01, 1.44270e-01, 1.44870e-01,\n",
       "       1.45490e-01, 1.46120e-01, 1.46730e-01, 1.47360e-01, 1.48010e-01,\n",
       "       1.48620e-01, 1.49230e-01, 1.49850e-01, 1.50510e-01, 1.51160e-01,\n",
       "       1.51820e-01, 1.52530e-01, 1.53220e-01, 1.53880e-01, 1.54580e-01,\n",
       "       1.55320e-01, 1.56020e-01, 1.56700e-01, 1.57350e-01, 1.58050e-01,\n",
       "       1.58740e-01, 1.59430e-01, 1.60150e-01, 1.60870e-01, 1.61590e-01,\n",
       "       1.62360e-01, 1.63090e-01, 1.63820e-01, 1.64630e-01, 1.65390e-01,\n",
       "       1.66180e-01, 1.66970e-01, 1.67720e-01, 1.68480e-01, 1.69220e-01,\n",
       "       1.70010e-01, 1.70800e-01, 1.71550e-01, 1.72360e-01, 1.73130e-01,\n",
       "       1.73960e-01, 1.74800e-01, 1.75710e-01, 1.76620e-01, 1.77480e-01,\n",
       "       1.78400e-01, 1.79320e-01, 1.80220e-01, 1.81080e-01, 1.81960e-01,\n",
       "       1.82860e-01, 1.83760e-01, 1.84780e-01, 1.85790e-01, 1.86780e-01,\n",
       "       1.87770e-01, 1.88750e-01, 1.89830e-01, 1.90880e-01, 1.91950e-01,\n",
       "       1.93000e-01, 1.94030e-01, 1.95180e-01, 1.96400e-01, 1.97500e-01,\n",
       "       1.98610e-01, 1.99770e-01, 2.00990e-01, 2.02220e-01, 2.03410e-01,\n",
       "       2.04600e-01, 2.05970e-01, 2.07270e-01, 2.08520e-01, 2.09790e-01,\n",
       "       2.11160e-01, 2.12580e-01, 2.14000e-01, 2.15520e-01, 2.17060e-01,\n",
       "       2.18510e-01, 2.20070e-01, 2.21640e-01, 2.23260e-01, 2.24880e-01,\n",
       "       2.26680e-01, 2.28480e-01, 2.30230e-01, 2.32110e-01, 2.33920e-01,\n",
       "       2.35800e-01, 2.37930e-01, 2.39940e-01, 2.42030e-01, 2.44260e-01,\n",
       "       2.46610e-01, 2.48920e-01, 2.51220e-01, 2.53610e-01, 2.56240e-01,\n",
       "       2.59090e-01, 2.61790e-01, 2.64540e-01, 2.67460e-01, 2.70440e-01,\n",
       "       2.73310e-01, 2.76120e-01, 2.78990e-01, 2.81760e-01, 2.84530e-01,\n",
       "       2.87260e-01, 2.90030e-01, 2.92710e-01, 2.95360e-01, 2.98070e-01,\n",
       "       3.00850e-01, 3.03390e-01, 3.06040e-01, 3.08690e-01, 3.11400e-01,\n",
       "       3.13960e-01, 3.16530e-01, 3.19110e-01, 3.21760e-01, 3.24500e-01,\n",
       "       3.27150e-01, 3.29790e-01, 3.32430e-01, 3.35010e-01, 3.37610e-01,\n",
       "       3.40250e-01, 3.42830e-01, 3.45310e-01, 3.47820e-01, 3.50430e-01,\n",
       "       3.52990e-01, 3.55540e-01, 3.58100e-01, 3.60700e-01, 3.63360e-01,\n",
       "       3.65930e-01, 3.68560e-01, 3.71160e-01, 3.73670e-01, 3.76170e-01,\n",
       "       3.78670e-01, 3.81250e-01, 3.83760e-01, 3.86280e-01, 3.88780e-01,\n",
       "       3.91240e-01, 3.93730e-01, 3.96220e-01, 3.98660e-01, 4.01210e-01,\n",
       "       4.03820e-01, 4.06350e-01, 4.08900e-01, 4.11420e-01, 4.13950e-01,\n",
       "       4.16520e-01, 4.19020e-01, 4.21520e-01, 4.24080e-01, 4.26540e-01,\n",
       "       4.29000e-01, 4.31550e-01, 4.34160e-01, 4.36670e-01, 4.39070e-01,\n",
       "       4.41510e-01, 4.44080e-01, 4.46600e-01, 4.49150e-01, 4.51660e-01,\n",
       "       4.54290e-01, 4.56770e-01, 4.59260e-01, 4.57570e-01, 4.61120e-01,\n",
       "       4.64870e-01, 4.68310e-01, 4.71610e-01, 4.74690e-01, 4.77530e-01,\n",
       "       4.80140e-01, 4.82570e-01, 4.84950e-01, 4.87320e-01, 4.89540e-01,\n",
       "       4.91780e-01, 4.94120e-01, 4.96580e-01, 4.98900e-01, 5.01370e-01,\n",
       "       5.03900e-01, 5.06460e-01, 5.08990e-01, 5.11510e-01, 5.14060e-01,\n",
       "       5.16620e-01, 5.19070e-01, 5.21430e-01, 5.23800e-01, 5.26300e-01,\n",
       "       5.28760e-01, 5.31200e-01, 5.33560e-01, 5.36040e-01, 5.38530e-01,\n",
       "       5.41020e-01, 5.43500e-01, 5.46020e-01, 5.48490e-01, 5.50960e-01,\n",
       "       5.53500e-01, 5.56090e-01, 5.58750e-01, 5.61360e-01, 5.63960e-01,\n",
       "       5.66650e-01, 5.69250e-01, 5.71810e-01, 5.74330e-01, 5.76810e-01,\n",
       "       5.79330e-01, 5.81660e-01, 5.84100e-01, 5.86620e-01, 5.89140e-01,\n",
       "       5.91740e-01, 5.94220e-01, 5.96760e-01, 5.99330e-01, 6.01760e-01,\n",
       "       6.04190e-01, 6.05530e-01, 6.06640e-01, 6.09990e-01, 6.13330e-01,\n",
       "       6.16480e-01, 6.19640e-01, 6.22620e-01, 6.25270e-01, 6.27760e-01,\n",
       "       6.30110e-01, 6.32440e-01, 6.34740e-01, 6.37070e-01, 6.39430e-01,\n",
       "       6.41840e-01, 6.44160e-01, 6.46520e-01, 6.49020e-01, 6.51520e-01,\n",
       "       6.54010e-01, 6.56480e-01, 6.58990e-01, 6.61560e-01, 6.63960e-01,\n",
       "       6.66510e-01, 6.69030e-01, 6.71570e-01, 6.74110e-01, 6.76630e-01,\n",
       "       6.79240e-01, 6.81880e-01, 6.84460e-01, 6.87010e-01, 6.89630e-01,\n",
       "       6.92150e-01, 6.94650e-01, 6.97020e-01, 6.99530e-01, 7.02020e-01,\n",
       "       7.04460e-01, 7.06910e-01, 7.09360e-01, 7.11830e-01, 7.14330e-01,\n",
       "       7.16860e-01, 7.18710e-01, 7.19420e-01, 7.22600e-01, 7.25880e-01,\n",
       "       7.29050e-01, 7.32100e-01, 7.35010e-01, 7.37620e-01, 7.40140e-01,\n",
       "       7.42580e-01, 7.44930e-01, 7.47330e-01, 7.49710e-01, 7.52120e-01,\n",
       "       7.54550e-01, 7.57040e-01, 7.59480e-01, 7.62000e-01, 7.64560e-01,\n",
       "       7.67050e-01, 7.69490e-01, 7.71980e-01, 7.74490e-01, 7.77050e-01,\n",
       "       7.79560e-01, 7.82120e-01, 7.84640e-01, 7.87130e-01, 7.89690e-01,\n",
       "       7.92160e-01, 7.94710e-01, 7.97250e-01, 7.99730e-01, 8.02180e-01,\n",
       "       8.04680e-01, 8.07180e-01, 8.09690e-01, 8.12260e-01, 8.14820e-01,\n",
       "       8.17440e-01, 8.20010e-01, 8.22630e-01, 8.25240e-01, 8.27760e-01,\n",
       "       8.30270e-01, 8.32790e-01, 8.35290e-01, 8.37790e-01, 8.40240e-01,\n",
       "       8.42670e-01, 8.45170e-01, 8.47610e-01, 8.50120e-01, 8.52560e-01,\n",
       "       8.55110e-01, 8.57590e-01, 8.60150e-01, 8.62770e-01, 8.65360e-01,\n",
       "       8.68000e-01, 8.70640e-01, 8.73280e-01, 8.75890e-01, 8.78450e-01,\n",
       "       8.80950e-01, 8.83370e-01, 8.85840e-01, 8.88330e-01, 8.90820e-01,\n",
       "       8.93200e-01, 8.95690e-01, 8.98120e-01, 9.00640e-01, 9.03190e-01,\n",
       "       9.05720e-01, 9.08280e-01, 9.10800e-01, 9.13320e-01, 9.15900e-01,\n",
       "       9.18420e-01, 9.20940e-01, 9.23360e-01, 9.25810e-01, 9.28160e-01,\n",
       "       9.30500e-01, 9.32820e-01, 9.35110e-01, 9.37490e-01, 9.39820e-01,\n",
       "       9.42270e-01, 9.44710e-01, 9.47270e-01, 9.49740e-01, 9.52280e-01,\n",
       "       9.54760e-01, 9.57340e-01, 9.59830e-01, 9.62300e-01, 9.64790e-01,\n",
       "       9.67320e-01, 9.69840e-01, 9.72340e-01, 9.74820e-01, 9.77300e-01,\n",
       "       9.79790e-01, 9.82310e-01, 9.84820e-01, 9.87350e-01, 9.89720e-01,\n",
       "       9.92180e-01, 9.94720e-01, 9.97220e-01, 9.99790e-01, 1.00229e+00,\n",
       "       1.00480e+00, 1.00737e+00, 1.01000e+00, 1.01257e+00, 1.01521e+00,\n",
       "       1.01781e+00, 1.02045e+00, 1.02304e+00, 1.02556e+00, 1.02809e+00,\n",
       "       1.03061e+00, 1.03306e+00, 1.03556e+00, 1.03802e+00, 1.04047e+00,\n",
       "       1.04287e+00, 1.04539e+00, 1.04784e+00, 1.05035e+00, 1.05285e+00,\n",
       "       1.05533e+00, 1.05783e+00, 1.06026e+00, 1.06275e+00, 1.06527e+00,\n",
       "       1.06776e+00, 1.07028e+00, 1.07277e+00, 1.07518e+00, 1.07781e+00,\n",
       "       1.08035e+00, 1.08283e+00, 1.08529e+00, 1.08781e+00, 1.09041e+00,\n",
       "       1.09292e+00, 1.09540e+00, 1.09783e+00, 1.10033e+00, 1.10275e+00,\n",
       "       1.10527e+00, 1.10779e+00, 1.11024e+00, 1.11271e+00, 1.11523e+00,\n",
       "       1.11769e+00, 1.12024e+00, 1.12275e+00, 1.12523e+00, 1.12770e+00,\n",
       "       1.13020e+00, 1.13277e+00, 1.13530e+00, 1.13783e+00, 1.14037e+00,\n",
       "       1.14291e+00, 1.14549e+00, 1.14801e+00, 1.15053e+00, 1.15297e+00,\n",
       "       1.15544e+00, 1.15792e+00, 1.16031e+00, 1.16290e+00, 1.16524e+00,\n",
       "       1.16769e+00, 1.17015e+00, 1.17268e+00, 1.17520e+00, 1.17767e+00,\n",
       "       1.18025e+00, 1.18267e+00, 1.18525e+00, 1.18774e+00, 1.19023e+00,\n",
       "       1.19275e+00, 1.19524e+00, 1.19769e+00, 1.20027e+00, 1.20275e+00,\n",
       "       1.20531e+00, 1.20770e+00, 1.21027e+00, 1.21279e+00, 1.21524e+00,\n",
       "       1.21770e+00, 1.22011e+00, 1.22260e+00, 1.22513e+00, 1.22766e+00,\n",
       "       1.23009e+00, 1.23264e+00, 1.23514e+00, 1.23762e+00, 1.24014e+00,\n",
       "       1.24284e+00, 1.24536e+00, 1.24790e+00, 1.25044e+00, 1.25305e+00,\n",
       "       1.25567e+00, 1.25821e+00, 1.26072e+00, 1.26322e+00, 1.26576e+00,\n",
       "       1.26820e+00, 1.27070e+00, 1.27315e+00, 1.27558e+00, 1.27800e+00,\n",
       "       1.28052e+00, 1.28304e+00, 1.28552e+00, 1.28789e+00, 1.29034e+00,\n",
       "       1.29274e+00, 1.29533e+00, 1.29785e+00, 1.30027e+00, 1.30269e+00,\n",
       "       1.30518e+00, 1.30768e+00, 1.31019e+00, 1.31259e+00, 1.31511e+00,\n",
       "       1.31760e+00, 1.32009e+00, 1.32257e+00, 1.32515e+00, 1.32760e+00,\n",
       "       1.33004e+00, 1.33250e+00, 1.33495e+00, 1.33744e+00, 1.33990e+00,\n",
       "       1.34227e+00, 1.34476e+00, 1.34725e+00, 1.34976e+00, 1.35225e+00,\n",
       "       1.35470e+00, 1.35731e+00, 1.35984e+00, 1.36240e+00, 1.36498e+00,\n",
       "       1.36759e+00, 1.37013e+00, 1.37262e+00, 1.37512e+00, 1.37767e+00,\n",
       "       1.38015e+00, 1.38254e+00, 1.38493e+00, 1.38739e+00, 1.38991e+00,\n",
       "       1.39237e+00, 1.39463e+00, 1.39326e+00, 1.39719e+00, 1.40130e+00,\n",
       "       1.40515e+00, 1.40851e+00, 1.41137e+00, 1.41381e+00, 1.41612e+00,\n",
       "       1.41830e+00, 1.42038e+00, 1.42253e+00, 1.42465e+00, 1.42693e+00,\n",
       "       1.42939e+00, 1.43191e+00, 1.43442e+00, 1.43692e+00, 1.43953e+00,\n",
       "       1.44203e+00, 1.44461e+00, 1.44716e+00, 1.44963e+00, 1.45213e+00,\n",
       "       1.45466e+00, 1.45715e+00, 1.45971e+00, 1.46227e+00, 1.46470e+00,\n",
       "       1.46720e+00, 1.46974e+00, 1.47230e+00, 1.47471e+00, 1.47712e+00,\n",
       "       1.47957e+00, 1.48209e+00, 1.48449e+00, 1.48693e+00, 1.48935e+00,\n",
       "       1.49187e+00, 1.49437e+00, 1.49684e+00, 1.49944e+00, 1.50204e+00,\n",
       "       1.50447e+00, 1.50694e+00, 1.50935e+00, 1.51194e+00, 1.51435e+00,\n",
       "       1.51672e+00, 1.51909e+00, 1.52158e+00, 1.52402e+00, 1.52652e+00,\n",
       "       1.52902e+00, 1.53155e+00, 1.53410e+00, 1.53660e+00, 1.53919e+00,\n",
       "       1.54141e+00, 1.54146e+00, 1.54393e+00, 1.54485e+00, 1.54584e+00,\n",
       "       1.54707e+00, 1.54860e+00, 1.55044e+00, 1.55267e+00, 1.55528e+00,\n",
       "       1.55895e+00, 1.56404e+00, 1.57185e+00, 1.58513e+00, 1.61547e+00,\n",
       "       1.65792e+00, 1.69469e+00, 1.72855e+00, 1.75996e+00, 1.78920e+00,\n",
       "       1.81799e+00, 1.84623e+00, 1.85239e+00, 1.86566e+00, 1.86667e+00],\n",
       "      dtype=float32), 'stresses': array([0.00213988, 0.00219867, 0.00239668, 0.00305166, 0.00388532,\n",
       "       0.00472512, 0.00555448, 0.00640075, 0.00723524, 0.00787504,\n",
       "       0.00840232, 0.00897844, 0.0097039 , 0.01053391, 0.01137007,\n",
       "       0.01220995, 0.01305216, 0.01390713, 0.01476078, 0.01560672,\n",
       "       0.01646882, 0.01730315, 0.01814992, 0.0189825 , 0.01983881,\n",
       "       0.02069047, 0.02153706, 0.02240133, 0.0232568 , 0.02410224,\n",
       "       0.02495697, 0.02579693, 0.0266539 , 0.02748649, 0.02834942,\n",
       "       0.02922554, 0.03010597, 0.03099005, 0.03183955, 0.03270514,\n",
       "       0.03358822, 0.03443383, 0.03530663, 0.03619594, 0.03702537,\n",
       "       0.0378636 , 0.03871036, 0.03955506, 0.04041758, 0.04129428,\n",
       "       0.04217521, 0.04305945, 0.04388905, 0.04472421, 0.04557545,\n",
       "       0.04642869, 0.0472981 , 0.04817728, 0.04906161, 0.0499456 ,\n",
       "       0.05077653, 0.05167695, 0.05252156, 0.05336061, 0.05420664,\n",
       "       0.05505456, 0.05591252, 0.05677206, 0.0576364 , 0.05850398,\n",
       "       0.05937512, 0.06024635, 0.06112098, 0.06199942, 0.06288516,\n",
       "       0.06377628, 0.06467371, 0.06558126, 0.06641791, 0.06725854,\n",
       "       0.0681015 , 0.06895175, 0.06979585, 0.07064693, 0.07149345,\n",
       "       0.07234469, 0.07321078, 0.07408193, 0.07495564, 0.07583822,\n",
       "       0.07671177, 0.07758151, 0.07845846, 0.07933458, 0.08021384,\n",
       "       0.08109105, 0.08196311, 0.08284336, 0.08371675, 0.08459643,\n",
       "       0.0854855 , 0.08636998, 0.08724958, 0.08812504, 0.08900199,\n",
       "       0.08987878, 0.09075829, 0.09163765, 0.09251485, 0.09338392,\n",
       "       0.09424403, 0.09509926, 0.09594751, 0.0968102 , 0.09767247,\n",
       "       0.0985267 , 0.0993728 , 0.10021401, 0.10105597, 0.10189511,\n",
       "       0.10274561, 0.10359362, 0.10443649, 0.10534585, 0.10618956,\n",
       "       0.10704163, 0.10791202, 0.1087869 , 0.10967264, 0.11055522,\n",
       "       0.11142198, 0.11229428, 0.11317462, 0.11406824, 0.11496451,\n",
       "       0.11585033, 0.116734  , 0.11761078, 0.1184796 , 0.11935887,\n",
       "       0.12024461, 0.1211364 , 0.12202065, 0.12291235, 0.12380149,\n",
       "       0.12470182, 0.12562107, 0.12653235, 0.12743714, 0.1283374 ,\n",
       "       0.1292374 , 0.13015299, 0.13107273, 0.13190979, 0.13274866,\n",
       "       0.13366643, 0.13457148, 0.13547081, 0.13637348, 0.13728872,\n",
       "       0.13811949, 0.13903384, 0.1399403 , 0.14084636, 0.14175308,\n",
       "       0.14266543, 0.14358151, 0.14449137, 0.14538126, 0.14625822,\n",
       "       0.14713284, 0.14801492, 0.14892015, 0.14983176, 0.15074818,\n",
       "       0.15165788, 0.15255895, 0.15346509, 0.1543767 , 0.15520903,\n",
       "       0.1560399 , 0.15694544, 0.15785283, 0.15875837, 0.15967488,\n",
       "       0.16050415, 0.16141823, 0.16232745, 0.16324006, 0.16414686,\n",
       "       0.1650558 , 0.1659757 , 0.16680671, 0.16764104, 0.16856144,\n",
       "       0.16947952, 0.17039892, 0.171232  , 0.17207472, 0.17292769,\n",
       "       0.17377512, 0.17461236, 0.1755316 , 0.17636676, 0.17720564,\n",
       "       0.17805614, 0.17890333, 0.17975001, 0.18059652, 0.1814341 ,\n",
       "       0.18235531, 0.1831869 , 0.18402594, 0.18487322, 0.18571867,\n",
       "       0.18656376, 0.1874    , 0.18823656, 0.18915273, 0.18999097,\n",
       "       0.19083905, 0.19169006, 0.19253598, 0.1933869 , 0.19423857,\n",
       "       0.19508722, 0.1959301 , 0.19677031, 0.1976205 , 0.19846576,\n",
       "       0.19930366, 0.20013765, 0.2009782 , 0.20182636, 0.20267388,\n",
       "       0.20352712, 0.20438723, 0.20523632, 0.2060713 , 0.20690995,\n",
       "       0.2077452 , 0.20858043, 0.20942058, 0.2102578 , 0.21109653,\n",
       "       0.2119325 , 0.21276642, 0.21368773, 0.21452537, 0.21536742,\n",
       "       0.21621153, 0.21706194, 0.21790099, 0.21873897, 0.21957828,\n",
       "       0.22041708, 0.22126369, 0.22211784, 0.22296982, 0.22380854,\n",
       "       0.22472662, 0.2255573 , 0.2264782 , 0.22730888, 0.2281428 ,\n",
       "       0.22897995, 0.22981542, 0.23072231, 0.23162405, 0.23253159,\n",
       "       0.23342729, 0.23432662, 0.23523682, 0.23613733, 0.23703773,\n",
       "       0.2379422 , 0.23884718, 0.23976086, 0.24059363, 0.24142613,\n",
       "       0.24225664, 0.24316518, 0.24406011, 0.24495953, 0.24586153,\n",
       "       0.24676932, 0.24768691, 0.24851659, 0.24941882, 0.25030622,\n",
       "       0.25118932, 0.25207403, 0.25296733, 0.2538598 , 0.25474435,\n",
       "       0.25562903, 0.25650182, 0.25737256, 0.2582431 , 0.25911757,\n",
       "       0.25999212, 0.26087263, 0.26173764, 0.2625932 , 0.2634506 ,\n",
       "       0.2643098 , 0.26518092, 0.26606062, 0.2669354 , 0.26780507,\n",
       "       0.26865265, 0.26950222, 0.27034578, 0.2711841 , 0.27202487,\n",
       "       0.2728749 , 0.27370772, 0.27453724, 0.27543184, 0.27632794,\n",
       "       0.27722394, 0.27812588, 0.27901575, 0.27991003, 0.2807929 ,\n",
       "       0.2816568 , 0.28251666, 0.2833873 , 0.2842708 , 0.2851554 ,\n",
       "       0.2860312 , 0.28690225, 0.2877587 , 0.28861776, 0.28948575,\n",
       "       0.29035473, 0.29122043, 0.29209045, 0.29294145, 0.2937791 ,\n",
       "       0.2946544 , 0.29550564, 0.29636484, 0.29723734, 0.29809707,\n",
       "       0.2989523 , 0.29978707, 0.30062544, 0.30147007, 0.30231717,\n",
       "       0.30316442, 0.30399942, 0.30488393, 0.30576766, 0.30663732,\n",
       "       0.30750093, 0.3083574 , 0.3092175 , 0.3100909 , 0.31095392,\n",
       "       0.31179348, 0.31262806, 0.31350914, 0.31439123, 0.31525755,\n",
       "       0.31611246, 0.31695083, 0.3178349 , 0.31870413, 0.31957123,\n",
       "       0.3204308 , 0.32127827, 0.3221601 , 0.32300738, 0.32383916,\n",
       "       0.32467124, 0.32554445, 0.32639876, 0.3272727 , 0.32812822,\n",
       "       0.32896537, 0.32983187, 0.3306752 , 0.33150598, 0.33234295,\n",
       "       0.33319935, 0.33406377, 0.33491045, 0.33575863, 0.33660787,\n",
       "       0.33743772, 0.3382681 , 0.33911967, 0.33998182, 0.34082478,\n",
       "       0.34166178, 0.34250134, 0.3433458 , 0.34418494, 0.34502223,\n",
       "       0.34586036, 0.3467089 , 0.34755763, 0.34839228, 0.34922737,\n",
       "       0.3500782 , 0.35092255, 0.35175422, 0.35258958, 0.35343698,\n",
       "       0.35427496, 0.35511777, 0.35595548, 0.35679826, 0.35762313,\n",
       "       0.3583902 , 0.359129  , 0.35982722, 0.36048466, 0.36112353,\n",
       "       0.3617349 , 0.36233783, 0.36293325, 0.36352697, 0.36408368,\n",
       "       0.36461806, 0.3651001 , 0.365585  , 0.36606792, 0.3665305 ,\n",
       "       0.3669636 , 0.36738226, 0.36780697, 0.3682486 , 0.36865938,\n",
       "       0.36906353, 0.3694346 , 0.36976403, 0.3700836 , 0.37039188,\n",
       "       0.3706912 , 0.3709689 , 0.37126735, 0.37156105, 0.3718482 ,\n",
       "       0.3721165 , 0.37239552, 0.3727154 , 0.3730307 , 0.3733171 ,\n",
       "       0.3735653 , 0.37379536, 0.3739835 , 0.37416744, 0.37434286,\n",
       "       0.37456724, 0.37477353, 0.37498018, 0.37516353, 0.37532938,\n",
       "       0.37550116, 0.37565872, 0.37583584, 0.37604603, 0.37624562,\n",
       "       0.37642646, 0.37658268, 0.37673002, 0.37687024, 0.37698847,\n",
       "       0.37710068, 0.37720698, 0.3773175 , 0.37742007, 0.37751907,\n",
       "       0.37762296, 0.37775183, 0.37784678, 0.37793556, 0.37801304,\n",
       "       0.37811196, 0.37819198, 0.37829527, 0.37839296, 0.3785022 ,\n",
       "       0.37859198, 0.37865898, 0.3787209 , 0.37902355, 0.37979594,\n",
       "       0.38003585, 0.37995812, 0.37970805, 0.3793689 , 0.37902114,\n",
       "       0.37870264, 0.3784242 , 0.37821293, 0.3780492 , 0.37794313,\n",
       "       0.37787747, 0.37786242, 0.37787014, 0.37786868, 0.37789097,\n",
       "       0.37789062, 0.37786576, 0.37781146, 0.3777577 , 0.37766868,\n",
       "       0.37757164, 0.3774845 , 0.37740505, 0.37736517, 0.37735176,\n",
       "       0.377333  , 0.3773331 , 0.37732753, 0.37736169, 0.37737805,\n",
       "       0.3773796 , 0.37737083, 0.37735283, 0.37733832, 0.37734032,\n",
       "       0.37736362, 0.37739155, 0.37742114, 0.37740546, 0.37736842,\n",
       "       0.37731147, 0.3772175 , 0.37712577, 0.37701997, 0.37691632,\n",
       "       0.37683383, 0.37676212, 0.37673748, 0.37672254, 0.37670946,\n",
       "       0.37670174, 0.37664437, 0.37658432, 0.37652034, 0.37646446,\n",
       "       0.37639874, 0.37639362, 0.3768904 , 0.37722555, 0.3772403 ,\n",
       "       0.37707976, 0.37679702, 0.37645987, 0.3761116 , 0.37582737,\n",
       "       0.37561518, 0.37548798, 0.37541276, 0.3753849 , 0.37539074,\n",
       "       0.37540796, 0.3754409 , 0.37549016, 0.3755199 , 0.3755535 ,\n",
       "       0.37556925, 0.37555754, 0.37554488, 0.37553018, 0.37549844,\n",
       "       0.37547687, 0.37547073, 0.37546086, 0.3754674 , 0.37547988,\n",
       "       0.3755024 , 0.37549528, 0.37546217, 0.3754201 , 0.3753671 ,\n",
       "       0.3752986 , 0.37523234, 0.37517124, 0.37513053, 0.37507623,\n",
       "       0.37504545, 0.37502122, 0.3750272 , 0.37504137, 0.3750587 ,\n",
       "       0.37507537, 0.37507802, 0.37551144, 0.37585446, 0.3759126 ,\n",
       "       0.37577304, 0.37554353, 0.37528318, 0.37503824, 0.37484708,\n",
       "       0.37471217, 0.3746253 , 0.37458417, 0.3746039 , 0.37462023,\n",
       "       0.3746607 , 0.3746874 , 0.37469628, 0.37472537, 0.37473816,\n",
       "       0.37475598, 0.37476245, 0.37478808, 0.37480664, 0.3748186 ,\n",
       "       0.3748248 , 0.37482595, 0.3748113 , 0.37480357, 0.37479943,\n",
       "       0.37477216, 0.37474066, 0.3747128 , 0.3746845 , 0.37465903,\n",
       "       0.37465847, 0.374682  , 0.37470257, 0.37472987, 0.37474793,\n",
       "       0.3747704 , 0.37478003, 0.37478423, 0.3747563 , 0.37470788,\n",
       "       0.37467188, 0.3746228 , 0.37458774, 0.37455538, 0.3745263 ,\n",
       "       0.37450507, 0.37449437, 0.3744699 , 0.37447572, 0.37448394,\n",
       "       0.37450814, 0.37452197, 0.37456253, 0.37459794, 0.37463018,\n",
       "       0.3746548 , 0.37466303, 0.37463352, 0.37457752, 0.37449795,\n",
       "       0.3744293 , 0.3743656 , 0.37432688, 0.37428242, 0.37424088,\n",
       "       0.3742211 , 0.37421802, 0.37423417, 0.37424362, 0.37426367,\n",
       "       0.37427637, 0.3742892 , 0.3742962 , 0.3742801 , 0.3742538 ,\n",
       "       0.3742064 , 0.3741612 , 0.37409934, 0.37401924, 0.37393788,\n",
       "       0.37387994, 0.3738472 , 0.37383273, 0.3738383 , 0.3738818 ,\n",
       "       0.37393987, 0.3739893 , 0.37403417, 0.37405422, 0.37405288,\n",
       "       0.37405175, 0.37403393, 0.37400964, 0.3739956 , 0.37398872,\n",
       "       0.37397397, 0.3739541 , 0.37393945, 0.3739233 , 0.37391004,\n",
       "       0.37388623, 0.37385365, 0.37381402, 0.3737863 , 0.37375084,\n",
       "       0.37375233, 0.37376642, 0.3737695 , 0.37377307, 0.37377596,\n",
       "       0.37379527, 0.37380713, 0.37380615, 0.37381908, 0.37379363,\n",
       "       0.3737743 , 0.37372437, 0.373667  , 0.37360913, 0.37356   ,\n",
       "       0.37350464, 0.37346494, 0.3734205 , 0.37340015, 0.3733768 ,\n",
       "       0.37336865, 0.37338787, 0.37337714, 0.3733728 , 0.3733684 ,\n",
       "       0.37334302, 0.3733219 , 0.373305  , 0.37330747, 0.37328252,\n",
       "       0.37327322, 0.3732722 , 0.37325963, 0.37325186, 0.3732791 ,\n",
       "       0.373265  , 0.37323907, 0.3732558 , 0.3732603 , 0.3732602 ,\n",
       "       0.3732321 , 0.37320167, 0.3731846 , 0.373169  , 0.3731685 ,\n",
       "       0.37317845, 0.37318987, 0.37318838, 0.37316677, 0.3731785 ,\n",
       "       0.37318277, 0.3731888 , 0.3731965 , 0.37319866, 0.37322652,\n",
       "       0.37326434, 0.37328872, 0.37331942, 0.37333864, 0.37335894,\n",
       "       0.37336758, 0.3733577 , 0.37333485, 0.37332487, 0.37331012,\n",
       "       0.37330464, 0.3733145 , 0.37331128, 0.37332305, 0.37332565,\n",
       "       0.37335372, 0.37341285, 0.3734623 , 0.37348607, 0.37351793,\n",
       "       0.37353995, 0.3735471 , 0.37357688, 0.37358502, 0.3735675 ,\n",
       "       0.37357387, 0.3735734 , 0.37357736, 0.37360388, 0.3735848 ,\n",
       "       0.37357986, 0.37356758, 0.373571  , 0.37357295, 0.37354097,\n",
       "       0.37352073, 0.3735145 , 0.3735273 , 0.3735392 , 0.373546  ,\n",
       "       0.37353608, 0.373546  , 0.37355787, 0.3735646 , 0.37358436,\n",
       "       0.3735956 , 0.37358037, 0.3735681 , 0.37357387, 0.37357122,\n",
       "       0.373566  , 0.37352958, 0.37348136, 0.37346286, 0.37344918,\n",
       "       0.37342852, 0.37341172, 0.37340894, 0.37341437, 0.3734402 ,\n",
       "       0.37345913, 0.37348193, 0.37350458, 0.37352565, 0.37355408,\n",
       "       0.3736044 , 0.37365225, 0.373686  , 0.3737213 , 0.37376815,\n",
       "       0.37382257, 0.37386394, 0.37391767, 0.37397164, 0.37404096,\n",
       "       0.374103  , 0.37418318, 0.37424994, 0.37430936, 0.37434885,\n",
       "       0.37439328, 0.37444445, 0.37452146, 0.37458095, 0.37464836,\n",
       "       0.3747064 , 0.37481716, 0.37492353, 0.37501866, 0.37509003,\n",
       "       0.37519312, 0.37530258, 0.37540722, 0.37550366, 0.37558997,\n",
       "       0.37567165, 0.3757241 , 0.37578127, 0.37586102, 0.37590945,\n",
       "       0.3759549 , 0.3760203 , 0.37610075, 0.37620947, 0.3763068 ,\n",
       "       0.37640947, 0.37652397, 0.3773219 , 0.37807247, 0.37831542,\n",
       "       0.3782136 , 0.3779142 , 0.3775579 , 0.37725225, 0.37702382,\n",
       "       0.37690067, 0.3768821 , 0.37697896, 0.37714633, 0.37735397,\n",
       "       0.37757745, 0.3777722 , 0.37793598, 0.37806627, 0.3781677 ,\n",
       "       0.37823507, 0.37830332, 0.3783661 , 0.37844363, 0.37852183,\n",
       "       0.37861177, 0.37870547, 0.37878656, 0.37886393, 0.37893584,\n",
       "       0.37900904, 0.3790802 , 0.37912706, 0.37917778, 0.37925076,\n",
       "       0.37932804, 0.3793947 , 0.37945607, 0.37954354, 0.37965757,\n",
       "       0.3797549 , 0.37985665, 0.37994686, 0.38004744, 0.38011056,\n",
       "       0.38016808, 0.38021386, 0.3802631 , 0.38032514, 0.38037422,\n",
       "       0.38042936, 0.3805117 , 0.38060814, 0.38070738, 0.38078964,\n",
       "       0.38089296, 0.3810123 , 0.38111517, 0.38121337, 0.38127795,\n",
       "       0.3813496 , 0.3813501 , 0.3822146 , 0.38309777, 0.3839829 ,\n",
       "       0.3849432 , 0.3859325 , 0.38690647, 0.38783756, 0.38870135,\n",
       "       0.38962552, 0.39053774, 0.39144745, 0.39231834, 0.39317074,\n",
       "       0.39401707, 0.39486143, 0.39571667, 0.39655143, 0.39739063,\n",
       "       0.39823905, 0.39906982, 0.39924634, 0.39963782, 0.3996684 ],\n",
       "      dtype=float32)})"
      ]
     },
     "execution_count": 18,
     "metadata": {},
     "output_type": "execute_result"
    }
   ],
   "source": [
    "job_load.input"
   ]
  },
  {
   "cell_type": "code",
   "execution_count": null,
   "id": "dd98e211",
   "metadata": {},
   "outputs": [],
   "source": []
  }
 ],
 "metadata": {
  "kernelspec": {
   "display_name": "Python 3 (ipykernel)",
   "language": "python",
   "name": "python3"
  },
  "language_info": {
   "codemirror_mode": {
    "name": "ipython",
    "version": 3
   },
   "file_extension": ".py",
   "mimetype": "text/x-python",
   "name": "python",
   "nbconvert_exporter": "python",
   "pygments_lexer": "ipython3",
   "version": "3.9.13"
  }
 },
 "nbformat": 4,
 "nbformat_minor": 5
}
